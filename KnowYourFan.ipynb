{
  "cells": [
    {
      "cell_type": "markdown",
      "metadata": {
        "id": "egdJ_DHHEFnz"
      },
      "source": [
        "# Protótipo Know Your Fan (KYF) - E-sports\n",
        "\n",
        "## Objetivo\n",
        "\n",
        "Este notebook é um protótipo funcional que demonstra o conceito de uma solução \"Know Your Fan\" (KYF) focada em fãs de e-sports. O objetivo é mostrar o fluxo de coleta de dados, armazenamento e a *simulação conceitual* de processos de validação que poderiam ser usados para entender melhor e engajar os fãs, inspirado por estratégias de organizações como a FURIA.\n",
        "\n",
        "## Tecnologias Utilizadas\n",
        "\n",
        "* **Linguagem:** Python 3\n",
        "* **Ambiente:** Google Colaboratory\n",
        "* **Bibliotecas Principais:**\n",
        "    * `sqlite3`: Para o banco de dados local simples.\n",
        "    * `json`: Para armazenar dados semi-estruturados (listas, dicionários) em campos de texto.\n",
        "    * `pandas`: Para exibição organizada de dados em tabelas.\n",
        "    * `IPython.display`: Para renderizar Markdown e limpar output.\n",
        "    * `re`: Para validações básicas (ex: formato CPF).\n",
        "\n",
        "## Como Executar\n",
        "\n",
        "1.  **Execute as Células de Setup (1, 2, 3):** Rode as três primeiras células de código em sequência para importar bibliotecas, inicializar o banco de dados (`kyf_database.db`) e definir as funções auxiliares.\n",
        "    * **Importante:** Se você reiniciar o ambiente de execução do Colab, precisará rodar essas 3 células novamente.\n",
        "2.  **Adicionar Fãs (Célula 5):** Execute a célula \"📝 Coleta de Dados do Novo Fã\". Siga as instruções interativas (inputs) para adicionar um ou mais fãs. Lembre-se da sensibilidade do CPF (use dados de teste).\n",
        "3.  **Visualizar Resumo (Célula 6):** Execute a célula \"📊 Visualizar Fãs Cadastrados\" para ver uma lista de todos os fãs no banco.\n",
        "4.  **Executar Simulações (Células 7 e 8):** Execute as células \"🔗 Vínculo com Redes Sociais\" e \"🎮 Vínculo com Perfis de E-sports\". Elas usarão um `target_fan_id` (atualmente ID 2) para buscar dados, explicar conceitos, mostrar resultados simulados e atualizar o status simulado no banco para aquele fã específico.\n",
        "\n",
        "## Estrutura do Notebook\n",
        "\n",
        "* **Células 1-3:** Configuração Inicial (Imports, DB Init, Funções Auxiliares).\n",
        "* **Célula 4:** Título e Introdução Breve (Pode ser removida ou mesclada com esta).\n",
        "* **Célula 5:** Coleta Interativa de Dados de um Novo Fã.\n",
        "* **Célula 6:** Visualização de Resumo de Todos os Fãs.\n",
        "* **Célula 7:** Simulação e Conceito - Vínculo Social.\n",
        "* **Célula 8:** Simulação e Conceito - Vínculo Perfis E-sports.\n",
        "\n",
        "## Funcional vs. Simulado\n",
        "\n",
        "* **Funcional:**\n",
        "    * Coleta de dados via input.\n",
        "    * Processamento básico (mascaramento de CPF, formatação JSON).\n",
        "    * Armazenamento e recuperação de dados no banco SQLite.\n",
        "    * Visualização de dados via Pandas.\n",
        "* **Simulado / Conceitual:**\n",
        "    * **Vínculo Social:** A conexão real via OAuth e leitura de APIs NÃO é feita. A célula *descreve* como seria, exibe os links fornecidos e gera um *texto simulado* do resultado da validação, atualizando o campo `social_validation_sim` no banco.\n",
        "    * **Vínculo Perfis E-sports:** A análise real via API/Scraping NÃO é feita. A célula *descreve* como seria, exibe os links fornecidos e gera um *texto simulado* do resultado da validação, atualizando o campo `esports_validation_sim` no banco.\n",
        "\n",
        "## Privacidade (LGPD)\n",
        "\n",
        "Este protótipo lida com dados fictícios ou de teste. Em uma aplicação real:\n",
        "* O CPF só deve ser coletado com base legal clara e armazenado de forma segura (criptografado). A exibição deve ser sempre mascarada.\n",
        "* O consentimento do usuário é essencial para coleta e processamento, especialmente para acesso a dados de terceiros (APIs sociais).\n",
        "* Princípios de minimização de dados e transparência devem ser seguidos."
      ]
    },
    {
      "cell_type": "code",
      "execution_count": 1,
      "metadata": {
        "colab": {
          "base_uri": "https://localhost:8080/"
        },
        "collapsed": true,
        "id": "YKhfT7kLwpAj",
        "outputId": "f77dddd9-6a91-48f2-86c8-b7881ecb967e"
      },
      "outputs": [
        {
          "output_type": "stream",
          "name": "stdout",
          "text": [
            "Bibliotecas importadas.\n"
          ]
        }
      ],
      "source": [
        "# Célula 1: Importações Essenciais\n",
        "\n",
        "# --- Bibliotecas Padrão do Python ---\n",
        "import sqlite3  # Para interagir com o banco de dados SQLite (criar, inserir, consultar)\n",
        "import json     # Para converter listas/dicionários Python em string formato JSON e vice-versa (útil para armazenar dados estruturados em campos de texto no DB)\n",
        "import re       # Para usar Expressões Regulares (Regular Expressions), usadas aqui na validação básica do formato do CPF\n",
        "\n",
        "import pandas as pd # Biblioteca poderosa para manipulação e análise de dados; usada aqui principalmente para exibir os dados do banco em tabelas formatadas (DataFrames)\n",
        "\n",
        "# --- Módulos Específicos do Ambiente Jupyter/IPython ---\n",
        "from IPython.display import display, Markdown, clear_output\n",
        "# display: Função para renderizar objetos de forma rica no output (como tabelas pandas e Markdown)\n",
        "# Markdown: Permite escrever e exibir texto formatado com Markdown diretamente via código Python\n",
        "# clear_output: Função para limpar o output de uma célula programaticamente (útil em interfaces interativas)\n",
        "\n",
        "# --- Mensagem de Confirmação ---\n",
        "# Imprime uma mensagem simples para indicar que a célula foi executada e as bibliotecas (teoricamente) carregadas com sucesso.\n",
        "print(\"Bibliotecas importadas.\")\n"
      ]
    },
    {
      "cell_type": "markdown",
      "metadata": {
        "id": "O7qSDEBHVdLQ"
      },
      "source": [
        "## Passo 1a: Configuração do Banco de Dados\n",
        "\n",
        "A célula de código a seguir define o nome do nosso banco de dados SQLite e contém a função `init_db` que cria a tabela `fans` (se ela não existir). A função é executada ao final da célula para garantir que o banco esteja pronto."
      ]
    },
    {
      "cell_type": "code",
      "execution_count": 2,
      "metadata": {
        "colab": {
          "base_uri": "https://localhost:8080/"
        },
        "id": "-YE8sfAqxWom",
        "outputId": "460b5c6c-c5c8-4e5a-deae-56eb36db7f63"
      },
      "outputs": [
        {
          "output_type": "stream",
          "name": "stdout",
          "text": [
            "Banco de dados 'kyf_database.db' inicializado com sucesso. Tabela 'fans' pronta.\n"
          ]
        }
      ],
      "source": [
        "# Célula 2: Configuração e Inicialização do Banco de Dados SQLite\n",
        "\n",
        "# --- Configuração do Banco de Dados ---\n",
        "# Define o nome do arquivo que será usado para o banco de dados SQLite.\n",
        "# Este arquivo será criado no diretório atual do ambiente Colab se não existir.\n",
        "DB_NAME = 'kyf_database.db'\n",
        "\n",
        "def init_db():\n",
        "    \"\"\"\n",
        "    Conecta ao banco de dados SQLite e cria a tabela 'fans' se ela ainda não existir.\n",
        "    Garante que a estrutura básica do banco esteja pronta para uso.\n",
        "    É seguro executar esta função múltiplas vezes (devido ao 'IF NOT EXISTS').\n",
        "    \"\"\"\n",
        "    try:\n",
        "        # Conecta ao arquivo do banco de dados (cria o arquivo se não existir)\n",
        "        conn = sqlite3.connect(DB_NAME)\n",
        "        # Cria um cursor, que é usado para executar comandos SQL\n",
        "        cursor = conn.cursor()\n",
        "\n",
        "        # Comando SQL para criar a tabela 'fans' apenas se ela não existir ainda\n",
        "        cursor.execute('''\n",
        "            CREATE TABLE IF NOT EXISTS fans (\n",
        "                -- Colunas principais de identificação e dados básicos\n",
        "                id INTEGER PRIMARY KEY AUTOINCREMENT, -- Chave primária única para cada fã, gerada automaticamente\n",
        "                full_name TEXT NOT NULL,             -- Nome completo, obrigatório (NOT NULL)\n",
        "                address TEXT,                        -- Endereço, opcional\n",
        "                cpf_masked TEXT,                     -- CPF armazenado já mascarado (por segurança/LGPD)\n",
        "\n",
        "                -- Colunas para interesses e atividades (armazenados como JSON strings)\n",
        "                games_interest TEXT, -- Lista de jogos de interesse, ex: '[\"CS\", \"LoL\"]'\n",
        "                activities TEXT,     -- Lista de atividades, ex: '[\"Streams\", \"Casual\"]'\n",
        "                events_attended TEXT,-- Descrição textual livre\n",
        "                esports_purchases TEXT,-- Descrição textual livre\n",
        "\n",
        "                -- Colunas para status de validação (com valores padrão)\n",
        "                id_doc_status TEXT DEFAULT 'Não verificado', -- Status da validação de ID (REMOVIDA do fluxo, mas mantida no schema por simplicidade)\n",
        "                social_links TEXT DEFAULT '{}',             -- Dicionário de links sociais, ex: '{\"twitter\": \"url\", \"twitch\": \"url\"}'\n",
        "                social_validation_sim TEXT DEFAULT 'Pendente', -- Guarda o RESULTADO SIMULADO da validação social\n",
        "                esports_profiles TEXT DEFAULT '{}',         -- Dicionário de perfis e-sports, ex: '{\"other\": \"url\"}' (Steam foi removido)\n",
        "                esports_validation_sim TEXT DEFAULT 'Pendente' -- Guarda o RESULTADO SIMULADO da validação de perfis e-sports\n",
        "            )\n",
        "        ''')\n",
        "        # Confirma (salva) as alterações feitas no banco de dados (neste caso, a criação da tabela)\n",
        "        conn.commit()\n",
        "        # Fecha a conexão com o banco de dados\n",
        "        conn.close()\n",
        "        # Imprime mensagem de sucesso\n",
        "        print(f\"Banco de dados '{DB_NAME}' inicializado com sucesso. Tabela 'fans' pronta.\")\n",
        "\n",
        "    except Exception as e:\n",
        "        # Captura e informa erros que possam ocorrer durante a inicialização do DB\n",
        "        print(f\"Erro ao inicializar o banco de dados: {e}\")\n",
        "\n",
        "# --- Inicializa o banco de dados ao executar esta célula ---\n",
        "# Chama a função init_db() imediatamente para garantir que a tabela exista\n",
        "# antes que outras células tentem interagir com ela.\n",
        "init_db()\n"
      ]
    },
    {
      "cell_type": "markdown",
      "metadata": {
        "id": "y1K93Q5nVfzP"
      },
      "source": [
        "## Passo 1b: Definição das Funções Auxiliares\n",
        "\n",
        "Esta célula define todas as funções Python que usaremos ao longo do notebook para tarefas repetitivas como mascarar CPF, adicionar/buscar/atualizar/deletar fãs no banco de dados. Executar esta célula torna as funções disponíveis para as células seguintes."
      ]
    },
    {
      "cell_type": "code",
      "execution_count": 3,
      "metadata": {
        "colab": {
          "base_uri": "https://localhost:8080/"
        },
        "id": "ImncNG1Exjto",
        "outputId": "0d9a6778-1324-4c08-fcd2-308e9b7b332f"
      },
      "outputs": [
        {
          "output_type": "stream",
          "name": "stdout",
          "text": [
            "Funções auxiliares (mask_cpf, add_fan, get_fan, get_all_fans, update_fan_status, delete_fan) definidas (com error handling refinado).\n"
          ]
        }
      ],
      "source": [
        "# Célula 3: Funções Auxiliares para Manipulação de Dados (com Error Handling Refinado)\n",
        "\n",
        "import sqlite3\n",
        "import json\n",
        "import re\n",
        "import pandas as pd\n",
        "from IPython.display import display, Markdown\n",
        "\n",
        "DB_NAME = 'kyf_database.db'\n",
        "\n",
        "def mask_cpf(cpf):\n",
        "    \"\"\"Mascara um CPF válido (11 dígitos numéricos) no formato ***.XXX.XXX-**.\"\"\"\n",
        "    if cpf and len(cpf) == 11 and cpf.isdigit():\n",
        "        if re.fullmatch(r'\\d{11}', cpf):\n",
        "             return f\"***.{cpf[3:6]}.{cpf[6:9]}-**\"\n",
        "    return \"Inválido ou não fornecido\"\n",
        "\n",
        "def add_fan(data):\n",
        "    \"\"\"Adiciona um novo fã ao banco de dados, tratando campos ausentes.\"\"\"\n",
        "    conn = None # Inicializa conn fora do try para garantir que exista no finally (se usássemos)\n",
        "    try:\n",
        "        conn = sqlite3.connect(DB_NAME)\n",
        "        cursor = conn.cursor()\n",
        "        cursor.execute('''\n",
        "            INSERT INTO fans (full_name, address, cpf_masked, games_interest, activities,\n",
        "                              events_attended, esports_purchases, social_links, esports_profiles)\n",
        "            VALUES (?, ?, ?, ?, ?, ?, ?, ?, ?)\n",
        "        ''', (data.get('full_name', 'Nome não fornecido'),\n",
        "              data.get('address', ''), data.get('cpf_masked', 'Não fornecido'),\n",
        "              data.get('games_interest', '[]'), data.get('activities', '[]'),\n",
        "              data.get('events_attended', ''), data.get('esports_purchases', ''),\n",
        "              data.get('social_links', '{}'), data.get('esports_profiles', '{}')\n",
        "             ))\n",
        "        fan_id = cursor.lastrowid\n",
        "        conn.commit()\n",
        "        print(f\"Fã '{data.get('full_name')}' adicionado com ID: {fan_id}\")\n",
        "        return fan_id\n",
        "    except sqlite3.Error as db_err: # Captura erros específicos do SQLite\n",
        "        print(f\"Erro de banco de dados ao adicionar fã: {db_err}\")\n",
        "        return None\n",
        "    except Exception as e: # Captura outros erros inesperados\n",
        "        print(f\"Erro inesperado ao adicionar fã: {e}\")\n",
        "        return None\n",
        "    finally:\n",
        "        # Garante que a conexão seja fechada mesmo se ocorrer um erro\n",
        "        if conn:\n",
        "            conn.close()\n",
        "\n",
        "def get_fan(fan_id):\n",
        "    \"\"\"Busca os dados de um fã pelo ID e retorna como dicionário.\"\"\"\n",
        "    conn = None\n",
        "    try:\n",
        "        conn = sqlite3.connect(DB_NAME)\n",
        "        conn.row_factory = sqlite3.Row\n",
        "        cursor = conn.cursor()\n",
        "        cursor.execute(\"SELECT * FROM fans WHERE id = ?\", (fan_id,))\n",
        "        fan_data_row = cursor.fetchone()\n",
        "        # A conexão pode ser fechada aqui, antes de processar o resultado\n",
        "        conn.close()\n",
        "        conn = None # Indica que foi fechada\n",
        "        return dict(fan_data_row) if fan_data_row else None\n",
        "    except sqlite3.Error as db_err:\n",
        "        print(f\"Erro de banco de dados ao buscar fã {fan_id}: {db_err}\")\n",
        "        return None\n",
        "    except Exception as e:\n",
        "        print(f\"Erro inesperado ao buscar fã {fan_id}: {e}\")\n",
        "        return None\n",
        "    finally:\n",
        "        if conn: # Fecha caso ainda esteja aberta por algum erro antes do close() explícito\n",
        "            conn.close()\n",
        "\n",
        "def get_all_fans():\n",
        "    \"\"\"Busca um resumo de todos os fãs (ID, Nome, CPF Masked) para listagem.\"\"\"\n",
        "    conn = None\n",
        "    try:\n",
        "        conn = sqlite3.connect(DB_NAME)\n",
        "        conn.row_factory = sqlite3.Row\n",
        "        cursor = conn.cursor()\n",
        "        cursor.execute(\"SELECT id, full_name, cpf_masked FROM fans ORDER BY id\")\n",
        "        fans_rows = cursor.fetchall()\n",
        "        conn.close()\n",
        "        conn = None\n",
        "        return [dict(fan) for fan in fans_rows]\n",
        "    except sqlite3.Error as db_err:\n",
        "        print(f\"Erro de banco de dados ao buscar todos os fãs: {db_err}\")\n",
        "        return []\n",
        "    except Exception as e:\n",
        "        print(f\"Erro inesperado ao buscar todos os fãs: {e}\")\n",
        "        return []\n",
        "    finally:\n",
        "        if conn:\n",
        "            conn.close()\n",
        "\n",
        "def update_fan_status(fan_id, field_name, status_value):\n",
        "    \"\"\"Atualiza um campo de status/simulação específico para um fã.\"\"\"\n",
        "    allowed_fields = ['id_doc_status', 'social_validation_sim', 'esports_validation_sim']\n",
        "    if field_name not in allowed_fields:\n",
        "        print(f\"Erro: Campo '{field_name}' não permitido para atualização de status.\")\n",
        "        return False\n",
        "    conn = None\n",
        "    try:\n",
        "        conn = sqlite3.connect(DB_NAME)\n",
        "        cursor = conn.cursor()\n",
        "        query = f\"UPDATE fans SET {field_name} = ? WHERE id = ?\"\n",
        "        cursor.execute(query, (status_value, fan_id))\n",
        "        conn.commit()\n",
        "        rows_affected = cursor.rowcount\n",
        "        conn.close()\n",
        "        conn = None\n",
        "        if rows_affected > 0:\n",
        "            print(f\"Status '{field_name}' atualizado para '{status_value}' para o fã ID {fan_id}.\")\n",
        "            return True\n",
        "        else:\n",
        "            print(f\"Fã com ID {fan_id} não encontrado para atualização de status '{field_name}'.\")\n",
        "            return False\n",
        "    except sqlite3.Error as db_err:\n",
        "        print(f\"Erro de banco de dados ao atualizar status '{field_name}' do fã {fan_id}: {db_err}\")\n",
        "        return False\n",
        "    except Exception as e:\n",
        "        print(f\"Erro inesperado ao atualizar status '{field_name}' do fã {fan_id}: {e}\")\n",
        "        return False\n",
        "    finally:\n",
        "        if conn:\n",
        "            conn.close()\n",
        "\n",
        "# --- Função para Deletar Fã ---\n",
        "def delete_fan(fan_id):\n",
        "    \"\"\"Deleta um fã do banco de dados pelo seu ID.\"\"\"\n",
        "    conn = None\n",
        "    try:\n",
        "        conn = sqlite3.connect(DB_NAME)\n",
        "        cursor = conn.cursor()\n",
        "        # Executa o comando DELETE para o ID fornecido. Usa placeholder '?' para segurança.\n",
        "        cursor.execute(\"DELETE FROM fans WHERE id = ?\", (fan_id,))\n",
        "        conn.commit()\n",
        "        rows_affected = cursor.rowcount # Verifica quantas linhas foram deletadas\n",
        "\n",
        "        # Fecha a conexão ANTES de retornar ou imprimir sucesso/falha\n",
        "        conn.close()\n",
        "        conn = None\n",
        "\n",
        "        if rows_affected > 0:\n",
        "            # Se uma linha foi afetada, o fã foi deletado com sucesso.\n",
        "            print(f\"Fã com ID {fan_id} deletado com sucesso.\")\n",
        "            return True\n",
        "        else:\n",
        "            # Se nenhuma linha foi afetada, o fã com aquele ID não existia.\n",
        "            print(f\"Fã com ID {fan_id} não encontrado para deleção.\")\n",
        "            return False\n",
        "    except sqlite3.Error as db_err:\n",
        "        print(f\"Erro de banco de dados ao deletar fã {fan_id}: {db_err}\")\n",
        "        return False\n",
        "    except Exception as e:\n",
        "        print(f\"Erro inesperado ao deletar fã {fan_id}: {e}\")\n",
        "        return False\n",
        "    finally:\n",
        "        # Garante que a conexão seja fechada em caso de erro inesperado antes do close() explícito\n",
        "        if conn:\n",
        "            conn.close()\n",
        "\n",
        "# Confirma que a célula foi processada (as definições foram lidas)\n",
        "print(\"Funções auxiliares (mask_cpf, add_fan, get_fan, get_all_fans, update_fan_status, delete_fan) definidas (com error handling refinado).\")"
      ]
    },
    {
      "cell_type": "markdown",
      "metadata": {
        "id": "hYXwhIioUsEv"
      },
      "source": [
        "## Passo 2: Adicionar um Novo Fã\n",
        "\n",
        "A célula de código abaixo iniciará um processo interativo para coletar os dados de um novo fã. Responda às perguntas que aparecerão no output."
      ]
    },
    {
      "cell_type": "code",
      "execution_count": 4,
      "metadata": {
        "colab": {
          "base_uri": "https://localhost:8080/",
          "height": 935,
          "referenced_widgets": [
            "15f55a6298e64bf48d742f17235d7031",
            "01457a4ba09d4c25b97b900c5e86c8f4",
            "82018240585f4bf08421671d5e85f1c3",
            "a03d8808ac8943cab128d662b5ae5be4",
            "0fa78d3038f944ce9807064545a518af",
            "e347acec8828485cbcc7070246325e40",
            "480e7f764acb4bb2992262010cc289d4",
            "0d70ea96afa1474bafbb532c63f51e61",
            "101d508c577f468d9d7cfe022e756e57",
            "cdc5762e86bc4fde9af48aa19d9723bc",
            "9dee42a282c34121bdd54c7b207126b4",
            "931bc62131fa4d0283b27c42d2d68ca7",
            "b4ce30b7cc3d402da2efbc43189ea211",
            "88b47a99a17a49bfa834ccf2526679c8",
            "f968a93898b94c35a2c1188c70e04fd9",
            "f3391d7e113743f98d278ab03ea23f2f",
            "51ab4a261e1845be920ea95aac22e9fa",
            "d941594a03c2448998bf21c60b1a8f6e",
            "dd251735f8c843a2b3bcd7443c58ecde",
            "6655e5beca1a404faff248348654a65f",
            "96d26ec238fd40d59906025bfecc14e8",
            "6c81009dce4041eca49d7714bbc17ba6",
            "303e78c2aace4d25b530cc15245461cb",
            "7d1b3f981d0744d392d2a6cdf226e5d2",
            "b699782a224c477c8d180b1b6dfb249c",
            "853918addfe2482290ab0f28aee45678",
            "42313c18b76f409281fba2c5b9f2ace5",
            "8b3b63ac95fe4fbebb246ffac1ac88c1",
            "5c4e205183f340fe980090eb42a90cf6",
            "6790bc6cad394167a0dc618e0dc76168",
            "240ead6413fe440fb612aaa161877740",
            "fa2d42e809d64d90bb3249ec43c26639",
            "009f8dc8fd4041a5866a1442433ce075",
            "56be28ddf2f4403192cee8010a7fbe05",
            "56752da3a5bb4523990f33b5e4ee07ef",
            "e8f9914707374e79b0d4c75e28678269",
            "51ff18a52b3240feb5272c409785e27f",
            "84f4283c8e584fdd92fd8e7de75b01de",
            "3668e575a099416688ef8bd000d1bd3c",
            "227dc7a88b18493680ed4069daa9f806",
            "ad88ca6cbb4e4afa8b0ec9b141221b72",
            "6ac125ec854348db941b6da769de351e",
            "1fb70fb381154d229daf4b4bec81cd2a",
            "560829cad0bf42f2a22984eab70be3d4",
            "a0327efa17524ba481defde96b65e197",
            "bd97b18385854728995a61d5718cd5e4",
            "269334eb07e940f2909fd39815c31473",
            "4ce595fd2356482bb1342013a2b31e96",
            "6b02ff02ff1d4f91bff47f5775b6ee96",
            "9119849f43fe40509b0500cffd10c281",
            "5de0ec46b3dd440c910626438b997d6c",
            "b312aecb520648fe9987061c0f50ca64",
            "7cfaea1a820b4083a7a685df5f39ebde",
            "17866290127241aab87d35e1f7f6586a",
            "23fd37950ec14643965195c227abd226",
            "34f086885d0d4f8c90115ff9a7c7a8df",
            "03d7237ecc744dec93c7090150d845ab",
            "0faf710d39cb468883f0672627d3b2bd",
            "3625ce03878e4d5abfecd34261b3ead7",
            "805c2bdd484a4fcbbfcbea588eb33bc4",
            "effb1f5d0da4421492c30e148531221b",
            "7f102fc67e5b47d98af46fd736ae4857",
            "0ccca75b023e4a38b9ad656d63df89d7"
          ]
        },
        "collapsed": true,
        "id": "YW3VeBDpxwx_",
        "outputId": "9db5ad46-cae7-471a-eec8-04b2572e928c"
      },
      "outputs": [
        {
          "output_type": "display_data",
          "data": {
            "text/plain": [
              "VBox(children=(HTML(value='<h2>📝 Coleta de Dados do Novo Fã</h2><p>Preencha as informações abaixo e clique em …"
            ],
            "application/vnd.jupyter.widget-view+json": {
              "version_major": 2,
              "version_minor": 0,
              "model_id": "15f55a6298e64bf48d742f17235d7031"
            }
          },
          "metadata": {}
        },
        {
          "output_type": "display_data",
          "data": {
            "text/plain": [
              "Output()"
            ],
            "application/vnd.jupyter.widget-view+json": {
              "version_major": 2,
              "version_minor": 0,
              "model_id": "7f102fc67e5b47d98af46fd736ae4857"
            }
          },
          "metadata": {}
        }
      ],
      "source": [
        "# Célula 5: Coleta de Dados do Fã via Formulário Interativo (ipywidgets)\n",
        "\n",
        "# --- Importações Essenciais ---\n",
        "import ipywidgets as widgets\n",
        "from IPython.display import display, Markdown, clear_output\n",
        "import json\n",
        "import re\n",
        "from urllib.parse import urlparse\n",
        "import pandas as pd # Para exibir no callback\n",
        "\n",
        "# --- Redefinir Funções Auxiliares (ou garantir Célula 3) ---\n",
        "def is_valid_url(url): # Exemplo\n",
        "    if not url: return True\n",
        "    try: result = urlparse(url); return all([result.scheme, result.netloc])\n",
        "    except ValueError: return False\n",
        "# !! Garanta que mask_cpf, add_fan, get_fan da Célula 3 estejam definidos !!\n",
        "\n",
        "# --- Estilo Comum para Descrições ---\n",
        "# Definir um estilo padrão para tentar alinhar a largura das descrições\n",
        "# 'initial' tenta ajustar ao conteúdo. '180px' (ou outro valor) fixa a largura.\n",
        "# Experimente 'initial' primeiro, se não ficar bom, tente um valor fixo como '180px'.\n",
        "style_desc_longa = {'description_width': '180px'} # Ou 'initial'\n",
        "\n",
        "# --- Criação dos Widgets do Formulário (com estilo e layout ajustados) ---\n",
        "\n",
        "# Título Principal\n",
        "title_label = widgets.HTML(\"<h2>📝 Coleta de Dados do Novo Fã</h2><p>Preencha as informações abaixo e clique em Salvar.</p><hr>\")\n",
        "\n",
        "# Seção: Dados Básicos\n",
        "w_full_name = widgets.Text(description=\"Nome Completo:\", placeholder=\"Digite o nome completo\", style=style_desc_longa, layout={'width': '80%'})\n",
        "w_address = widgets.Textarea(description=\"Endereço:\", placeholder=\"Digite o endereço (opcional)\", style=style_desc_longa, layout={'width': '80%', 'height': '60px'})\n",
        "basic_info_section = widgets.VBox([widgets.HTML(\"<h3>Dados Básicos</h3>\"), w_full_name, w_address], layout={'margin': '0 0 10px 0'}) # Margem inferior\n",
        "\n",
        "# Seção: CPF\n",
        "w_cpf = widgets.Text(description=\"CPF:\", placeholder=\"Digite 11 números\", style=style_desc_longa, layout={'width': '315px', 'margin': '0 0 5px 0'})\n",
        "cpf_warning_label = widgets.HTML(\"<p><small><font color='red'><b>Atenção (LGPD):</b> Use apenas CPFs de teste (11 dígitos válidos).</font></small></p>\")\n",
        "cpf_section = widgets.VBox([widgets.HTML(\"<h3>CPF (Dado Sensível)</h3>\"), w_cpf, cpf_warning_label], layout={'margin': '0 0 10px 0'}) # Margem inferior\n",
        "\n",
        "# Seção: Interesses e Atividades\n",
        "w_games = widgets.Text(description=\"Jogos (sep. vírgula):\", placeholder=\"Ex: CS, Valorant, LoL\", style=style_desc_longa, layout={'width': '80%'})\n",
        "w_activities = widgets.Text(description=\"Atividades (sep. vírgula):\", placeholder=\"Ex: Competitivo, Streams\", style=style_desc_longa, layout={'width': '80%'})\n",
        "w_events = widgets.Textarea(description=\"Eventos Comparecidos:\", placeholder=\"Eventos online/presenciais comparecidos\", style=style_desc_longa, layout={'width': '80%', 'height': '60px'})\n",
        "w_purchases = widgets.Textarea(description=\"Compras E-sports:\", placeholder=\"Produtos, Skins, Periféricos\", style=style_desc_longa, layout={'width': '80%', 'height': '60px'})\n",
        "interests_section = widgets.VBox([widgets.HTML(\"<h3>Interesses e Atividades em E-sports</h3>\"), w_games, w_activities, w_events, w_purchases], layout={'margin': '0 0 10px 0'}) # Margem inferior\n",
        "\n",
        "# Seção: Links\n",
        "w_link_twitter = widgets.Text(description=\"Twitter URL:\", placeholder=\"https://twitter.com/usuario\", style=style_desc_longa, layout={'width': '80%'})\n",
        "w_link_twitch = widgets.Text(description=\"Twitch URL:\", placeholder=\"https://twitch.tv/canal\", style=style_desc_longa, layout={'width': '80%'})\n",
        "w_link_other_esports = widgets.Text(description=\"Outro Perfil URL:\", placeholder=\"Link GamersClub, HLTV, etc.\", style=style_desc_longa, layout={'width': '80%'})\n",
        "links_section = widgets.VBox([widgets.HTML(\"<h3>Links de Perfis Online</h3>\"), w_link_twitter, w_link_twitch, w_link_other_esports], layout={'margin': '0 0 10px 0'}) # Margem inferior\n",
        "\n",
        "# --- Botão de Ação e Área de Output ---\n",
        "w_button_save = widgets.Button(description=\"Salvar Fã\", button_style='success', icon='save', layout={'margin': '10px 0 0 0'}) # Margem superior\n",
        "output_area = widgets.Output()\n",
        "\n",
        "# --- Função Callback (Exatamente a mesma de antes) ---\n",
        "def on_save_button_clicked(b):\n",
        "    with output_area:\n",
        "        clear_output(wait=True)\n",
        "        print(\"Processando...\")\n",
        "        # 1. Ler valores\n",
        "        name = w_full_name.value; address = w_address.value; cpf_raw = w_cpf.value\n",
        "        games_str = w_games.value; activities_str = w_activities.value\n",
        "        events = w_events.value; purchases = w_purchases.value\n",
        "        link_twitter = w_link_twitter.value; link_twitch = w_link_twitch.value; link_other = w_link_other_esports.value\n",
        "        # 2. Validar\n",
        "        errors = []\n",
        "        if not name: errors.append(\"Nome Completo é obrigatório.\")\n",
        "        if not (cpf_raw and len(cpf_raw) == 11 and cpf_raw.isdigit()):\n",
        "            errors.append(\"CPF inválido. Deve conter 11 números.\")\n",
        "            cpf_masked = \"Inválido ou não fornecido\"\n",
        "        else:\n",
        "            try: cpf_masked = mask_cpf(cpf_raw) # Requer Célula 3\n",
        "            except NameError: print(\"Erro: Função mask_cpf não definida.\"); return\n",
        "        if not is_valid_url(link_twitter): print(\">>> Aviso: Formato URL Twitter inválido.\")\n",
        "        if not is_valid_url(link_twitch): print(\">>> Aviso: Formato URL Twitch inválido.\")\n",
        "        if not is_valid_url(link_other): print(\">>> Aviso: Formato URL Outro Perfil inválido.\")\n",
        "        if errors:\n",
        "            print(\"### Erros de Validação ###\"); [print(f\"- {e}\") for e in errors]; return\n",
        "        # 3. Processar\n",
        "        try:\n",
        "            games_list = [g.strip() for g in games_str.split(',') if g.strip()]; games_interest_json = json.dumps(games_list)\n",
        "            activities_list = [a.strip() for a in activities_str.split(',') if a.strip()]; activities_json = json.dumps(activities_list)\n",
        "            social_links_dict = {'twitter': link_twitter, 'twitch': link_twitch}; social_links_json = json.dumps(social_links_dict)\n",
        "            esports_profiles_dict = {'other': link_other}; esports_profiles_json = json.dumps(esports_profiles_dict)\n",
        "        except Exception as e: print(f\"Erro ao processar listas/JSON: {e}\"); return\n",
        "        # 4. Montar e Salvar\n",
        "        fan_data_to_save = {\n",
        "            'full_name': name, 'address': address, 'cpf_masked': cpf_masked,\n",
        "            'games_interest': games_interest_json, 'activities': activities_json,\n",
        "            'events_attended': events, 'esports_purchases': purchases,\n",
        "            'social_links': social_links_json, 'esports_profiles': esports_profiles_json\n",
        "        }\n",
        "        print(\"Salvando no banco de dados...\")\n",
        "        try:\n",
        "            new_fan_id = add_fan(fan_data_to_save) # Requer Célula 3\n",
        "            if new_fan_id: print(f\"--- SUCESSO! Fã salvo com ID: {new_fan_id} ---\")\n",
        "            else: print(\"### Falha ao salvar o fã no banco de dados. Verifique os logs. ###\")\n",
        "        except NameError: print(\"Erro: Função add_fan não definida. Rode a Célula 3.\")\n",
        "        except Exception as e: print(f\"Erro inesperado ao tentar salvar: {e}\")\n",
        "\n",
        "# --- Ligar a Função ao Botão ---\n",
        "w_button_save.on_click(on_save_button_clicked)\n",
        "\n",
        "# --- Exibir o Formulário e a Área de Output ---\n",
        "form_layout = widgets.VBox([\n",
        "    title_label,\n",
        "    basic_info_section,\n",
        "    cpf_section,\n",
        "    interests_section,\n",
        "    links_section,\n",
        "    w_button_save\n",
        "])\n",
        "display(form_layout, output_area)"
      ]
    },
    {
      "cell_type": "markdown",
      "metadata": {
        "id": "EG-4hDSUUyjl"
      },
      "source": [
        "## Passo 3: Visualizar Resumo dos Fãs\n",
        "\n",
        "A próxima célula buscará um resumo de todos os fãs atualmente no banco de dados e exibirá em uma tabela."
      ]
    },
    {
      "cell_type": "code",
      "execution_count": 5,
      "metadata": {
        "colab": {
          "base_uri": "https://localhost:8080/",
          "height": 180
        },
        "collapsed": true,
        "id": "J9XmLUNq1DPa",
        "outputId": "604dc6f7-ecdf-4e41-b4aa-f040f80eae7b"
      },
      "outputs": [
        {
          "output_type": "display_data",
          "data": {
            "text/plain": [
              "<IPython.core.display.Markdown object>"
            ],
            "text/markdown": "---"
          },
          "metadata": {}
        },
        {
          "output_type": "display_data",
          "data": {
            "text/plain": [
              "<IPython.core.display.Markdown object>"
            ],
            "text/markdown": "## 📊 Visualizar Fãs Cadastrados"
          },
          "metadata": {}
        },
        {
          "output_type": "stream",
          "name": "stdout",
          "text": [
            "Encontrados 1 fãs no banco de dados:\n"
          ]
        },
        {
          "output_type": "display_data",
          "data": {
            "text/plain": [
              "   id    full_name      cpf_masked\n",
              "0   1  Lucas Silva  ***.473.968-**"
            ],
            "text/html": [
              "\n",
              "  <div id=\"df-487e1e2e-3139-4b0e-8697-847ef7704623\" class=\"colab-df-container\">\n",
              "    <div>\n",
              "<style scoped>\n",
              "    .dataframe tbody tr th:only-of-type {\n",
              "        vertical-align: middle;\n",
              "    }\n",
              "\n",
              "    .dataframe tbody tr th {\n",
              "        vertical-align: top;\n",
              "    }\n",
              "\n",
              "    .dataframe thead th {\n",
              "        text-align: right;\n",
              "    }\n",
              "</style>\n",
              "<table border=\"1\" class=\"dataframe\">\n",
              "  <thead>\n",
              "    <tr style=\"text-align: right;\">\n",
              "      <th></th>\n",
              "      <th>id</th>\n",
              "      <th>full_name</th>\n",
              "      <th>cpf_masked</th>\n",
              "    </tr>\n",
              "  </thead>\n",
              "  <tbody>\n",
              "    <tr>\n",
              "      <th>0</th>\n",
              "      <td>1</td>\n",
              "      <td>Lucas Silva</td>\n",
              "      <td>***.473.968-**</td>\n",
              "    </tr>\n",
              "  </tbody>\n",
              "</table>\n",
              "</div>\n",
              "    <div class=\"colab-df-buttons\">\n",
              "\n",
              "  <div class=\"colab-df-container\">\n",
              "    <button class=\"colab-df-convert\" onclick=\"convertToInteractive('df-487e1e2e-3139-4b0e-8697-847ef7704623')\"\n",
              "            title=\"Convert this dataframe to an interactive table.\"\n",
              "            style=\"display:none;\">\n",
              "\n",
              "  <svg xmlns=\"http://www.w3.org/2000/svg\" height=\"24px\" viewBox=\"0 -960 960 960\">\n",
              "    <path d=\"M120-120v-720h720v720H120Zm60-500h600v-160H180v160Zm220 220h160v-160H400v160Zm0 220h160v-160H400v160ZM180-400h160v-160H180v160Zm440 0h160v-160H620v160ZM180-180h160v-160H180v160Zm440 0h160v-160H620v160Z\"/>\n",
              "  </svg>\n",
              "    </button>\n",
              "\n",
              "  <style>\n",
              "    .colab-df-container {\n",
              "      display:flex;\n",
              "      gap: 12px;\n",
              "    }\n",
              "\n",
              "    .colab-df-convert {\n",
              "      background-color: #E8F0FE;\n",
              "      border: none;\n",
              "      border-radius: 50%;\n",
              "      cursor: pointer;\n",
              "      display: none;\n",
              "      fill: #1967D2;\n",
              "      height: 32px;\n",
              "      padding: 0 0 0 0;\n",
              "      width: 32px;\n",
              "    }\n",
              "\n",
              "    .colab-df-convert:hover {\n",
              "      background-color: #E2EBFA;\n",
              "      box-shadow: 0px 1px 2px rgba(60, 64, 67, 0.3), 0px 1px 3px 1px rgba(60, 64, 67, 0.15);\n",
              "      fill: #174EA6;\n",
              "    }\n",
              "\n",
              "    .colab-df-buttons div {\n",
              "      margin-bottom: 4px;\n",
              "    }\n",
              "\n",
              "    [theme=dark] .colab-df-convert {\n",
              "      background-color: #3B4455;\n",
              "      fill: #D2E3FC;\n",
              "    }\n",
              "\n",
              "    [theme=dark] .colab-df-convert:hover {\n",
              "      background-color: #434B5C;\n",
              "      box-shadow: 0px 1px 3px 1px rgba(0, 0, 0, 0.15);\n",
              "      filter: drop-shadow(0px 1px 2px rgba(0, 0, 0, 0.3));\n",
              "      fill: #FFFFFF;\n",
              "    }\n",
              "  </style>\n",
              "\n",
              "    <script>\n",
              "      const buttonEl =\n",
              "        document.querySelector('#df-487e1e2e-3139-4b0e-8697-847ef7704623 button.colab-df-convert');\n",
              "      buttonEl.style.display =\n",
              "        google.colab.kernel.accessAllowed ? 'block' : 'none';\n",
              "\n",
              "      async function convertToInteractive(key) {\n",
              "        const element = document.querySelector('#df-487e1e2e-3139-4b0e-8697-847ef7704623');\n",
              "        const dataTable =\n",
              "          await google.colab.kernel.invokeFunction('convertToInteractive',\n",
              "                                                    [key], {});\n",
              "        if (!dataTable) return;\n",
              "\n",
              "        const docLinkHtml = 'Like what you see? Visit the ' +\n",
              "          '<a target=\"_blank\" href=https://colab.research.google.com/notebooks/data_table.ipynb>data table notebook</a>'\n",
              "          + ' to learn more about interactive tables.';\n",
              "        element.innerHTML = '';\n",
              "        dataTable['output_type'] = 'display_data';\n",
              "        await google.colab.output.renderOutput(dataTable, element);\n",
              "        const docLink = document.createElement('div');\n",
              "        docLink.innerHTML = docLinkHtml;\n",
              "        element.appendChild(docLink);\n",
              "      }\n",
              "    </script>\n",
              "  </div>\n",
              "\n",
              "\n",
              "  <div id=\"id_f6007805-4ddd-42e3-9800-e2b7fa93edba\">\n",
              "    <style>\n",
              "      .colab-df-generate {\n",
              "        background-color: #E8F0FE;\n",
              "        border: none;\n",
              "        border-radius: 50%;\n",
              "        cursor: pointer;\n",
              "        display: none;\n",
              "        fill: #1967D2;\n",
              "        height: 32px;\n",
              "        padding: 0 0 0 0;\n",
              "        width: 32px;\n",
              "      }\n",
              "\n",
              "      .colab-df-generate:hover {\n",
              "        background-color: #E2EBFA;\n",
              "        box-shadow: 0px 1px 2px rgba(60, 64, 67, 0.3), 0px 1px 3px 1px rgba(60, 64, 67, 0.15);\n",
              "        fill: #174EA6;\n",
              "      }\n",
              "\n",
              "      [theme=dark] .colab-df-generate {\n",
              "        background-color: #3B4455;\n",
              "        fill: #D2E3FC;\n",
              "      }\n",
              "\n",
              "      [theme=dark] .colab-df-generate:hover {\n",
              "        background-color: #434B5C;\n",
              "        box-shadow: 0px 1px 3px 1px rgba(0, 0, 0, 0.15);\n",
              "        filter: drop-shadow(0px 1px 2px rgba(0, 0, 0, 0.3));\n",
              "        fill: #FFFFFF;\n",
              "      }\n",
              "    </style>\n",
              "    <button class=\"colab-df-generate\" onclick=\"generateWithVariable('fans_df')\"\n",
              "            title=\"Generate code using this dataframe.\"\n",
              "            style=\"display:none;\">\n",
              "\n",
              "  <svg xmlns=\"http://www.w3.org/2000/svg\" height=\"24px\"viewBox=\"0 0 24 24\"\n",
              "       width=\"24px\">\n",
              "    <path d=\"M7,19H8.4L18.45,9,17,7.55,7,17.6ZM5,21V16.75L18.45,3.32a2,2,0,0,1,2.83,0l1.4,1.43a1.91,1.91,0,0,1,.58,1.4,1.91,1.91,0,0,1-.58,1.4L9.25,21ZM18.45,9,17,7.55Zm-12,3A5.31,5.31,0,0,0,4.9,8.1,5.31,5.31,0,0,0,1,6.5,5.31,5.31,0,0,0,4.9,4.9,5.31,5.31,0,0,0,6.5,1,5.31,5.31,0,0,0,8.1,4.9,5.31,5.31,0,0,0,12,6.5,5.46,5.46,0,0,0,6.5,12Z\"/>\n",
              "  </svg>\n",
              "    </button>\n",
              "    <script>\n",
              "      (() => {\n",
              "      const buttonEl =\n",
              "        document.querySelector('#id_f6007805-4ddd-42e3-9800-e2b7fa93edba button.colab-df-generate');\n",
              "      buttonEl.style.display =\n",
              "        google.colab.kernel.accessAllowed ? 'block' : 'none';\n",
              "\n",
              "      buttonEl.onclick = () => {\n",
              "        google.colab.notebook.generateWithVariable('fans_df');\n",
              "      }\n",
              "      })();\n",
              "    </script>\n",
              "  </div>\n",
              "\n",
              "    </div>\n",
              "  </div>\n"
            ],
            "application/vnd.google.colaboratory.intrinsic+json": {
              "type": "dataframe",
              "variable_name": "fans_df",
              "summary": "{\n  \"name\": \"fans_df\",\n  \"rows\": 1,\n  \"fields\": [\n    {\n      \"column\": \"id\",\n      \"properties\": {\n        \"dtype\": \"number\",\n        \"std\": null,\n        \"min\": 1,\n        \"max\": 1,\n        \"num_unique_values\": 1,\n        \"samples\": [\n          1\n        ],\n        \"semantic_type\": \"\",\n        \"description\": \"\"\n      }\n    },\n    {\n      \"column\": \"full_name\",\n      \"properties\": {\n        \"dtype\": \"string\",\n        \"num_unique_values\": 1,\n        \"samples\": [\n          \"Lucas Silva\"\n        ],\n        \"semantic_type\": \"\",\n        \"description\": \"\"\n      }\n    },\n    {\n      \"column\": \"cpf_masked\",\n      \"properties\": {\n        \"dtype\": \"string\",\n        \"num_unique_values\": 1,\n        \"samples\": [\n          \"***.473.968-**\"\n        ],\n        \"semantic_type\": \"\",\n        \"description\": \"\"\n      }\n    }\n  ]\n}"
            }
          },
          "metadata": {}
        },
        {
          "output_type": "display_data",
          "data": {
            "text/plain": [
              "<IPython.core.display.Markdown object>"
            ],
            "text/markdown": "---"
          },
          "metadata": {}
        }
      ],
      "source": [
        "# Célula 6: Visualizar Todos os Fãs Cadastrados (Resumo)\n",
        "\n",
        "# --- Formatação da Interface no Output ---\n",
        "display(Markdown(\"---\"))\n",
        "display(Markdown(\"## 📊 Visualizar Fãs Cadastrados\"))\n",
        "\n",
        "# --- Busca dos Dados ---\n",
        "# Chama a função auxiliar (definida na Célula 3) que busca um resumo de todos os fãs.\n",
        "# Espera-se que retorne uma lista de dicionários, cada um com 'id', 'full_name', 'cpf_masked'.\n",
        "all_fans_summary = get_all_fans()\n",
        "\n",
        "# --- Verificação e Exibição ---\n",
        "# Verifica se a lista retornada está vazia (nenhum fã no banco)\n",
        "if not all_fans_summary:\n",
        "    # Imprime uma mensagem informativa se não houver fãs\n",
        "    print(\"Nenhum fã cadastrado ainda.\")\n",
        "else:\n",
        "    # Se a lista não estiver vazia, imprime quantos fãs foram encontrados\n",
        "    print(f\"Encontrados {len(all_fans_summary)} fãs no banco de dados:\")\n",
        "\n",
        "    # Cria um DataFrame do Pandas a partir da lista de dicionários.\n",
        "    # O Pandas organiza os dados automaticamente em formato de tabela,\n",
        "    # usando as chaves dos dicionários como nomes das colunas.\n",
        "    fans_df = pd.DataFrame(all_fans_summary)\n",
        "\n",
        "    # Usa a função display() (do IPython) para renderizar o DataFrame\n",
        "    # como uma tabela HTML formatada no output da célula.\n",
        "    # É mais visualmente agradável que um simples print(fans_df).\n",
        "    display(fans_df)\n",
        "\n",
        "# --- Formatação Final ---\n",
        "display(Markdown(\"---\"))"
      ]
    },
    {
      "cell_type": "markdown",
      "metadata": {
        "id": "1ZM1yH08U0rY"
      },
      "source": [
        "## Passo 4: Simulação - Vínculo Social\n",
        "\n",
        "Agora, vamos simular a validação dos links sociais. A célula seguinte pedirá um ID de fã, buscará seus links, explicará o conceito de validação real e salvará um resultado simulado no banco."
      ]
    },
    {
      "cell_type": "code",
      "execution_count": 6,
      "metadata": {
        "colab": {
          "base_uri": "https://localhost:8080/",
          "height": 501
        },
        "collapsed": true,
        "id": "3PXxP8jP-8cY",
        "outputId": "8719b5b4-4f33-4904-c291-01786b906099"
      },
      "outputs": [
        {
          "output_type": "display_data",
          "data": {
            "text/plain": [
              "<IPython.core.display.Markdown object>"
            ],
            "text/markdown": "---"
          },
          "metadata": {}
        },
        {
          "output_type": "display_data",
          "data": {
            "text/plain": [
              "<IPython.core.display.Markdown object>"
            ],
            "text/markdown": "## 🔗 Vínculo com Redes Sociais (Conceitual / Simulado)"
          },
          "metadata": {}
        },
        {
          "output_type": "stream",
          "name": "stdout",
          "text": [
            "Digite o ID do fã para executar a simulação social: 1\n",
            "Tentando executar simulação social para o Fã ID: 1\n"
          ]
        },
        {
          "output_type": "display_data",
          "data": {
            "text/plain": [
              "<IPython.core.display.Markdown object>"
            ],
            "text/markdown": "**Simulando para o Fã:** Lucas Silva (ID: 1)"
          },
          "metadata": {}
        },
        {
          "output_type": "display_data",
          "data": {
            "text/plain": [
              "<IPython.core.display.Markdown object>"
            ],
            "text/markdown": "\n**Links Sociais Fornecidos:**"
          },
          "metadata": {}
        },
        {
          "output_type": "display_data",
          "data": {
            "text/plain": [
              "<IPython.core.display.Markdown object>"
            ],
            "text/markdown": "- Twitter: [https://x.com/smurfdomuca](https://x.com/smurfdomuca)"
          },
          "metadata": {}
        },
        {
          "output_type": "display_data",
          "data": {
            "text/plain": [
              "<IPython.core.display.Markdown object>"
            ],
            "text/markdown": "- Twitch: Não fornecido"
          },
          "metadata": {}
        },
        {
          "output_type": "display_data",
          "data": {
            "text/plain": [
              "<IPython.core.display.Markdown object>"
            ],
            "text/markdown": "\n**Conceito de Validação/Leitura:**"
          },
          "metadata": {}
        },
        {
          "output_type": "display_data",
          "data": {
            "text/plain": [
              "<IPython.core.display.Markdown object>"
            ],
            "text/markdown": "1.  **Autorização (OAuth 2.0):** ...\n2.  **Coleta via API:** ...\n    * **Twitter:** ...\n    * **Twitch:** ..."
          },
          "metadata": {}
        },
        {
          "output_type": "display_data",
          "data": {
            "text/plain": [
              "<IPython.core.display.Markdown object>"
            ],
            "text/markdown": "\n**Resultado da Validação (Simulado):**"
          },
          "metadata": {}
        },
        {
          "output_type": "stream",
          "name": "stdout",
          "text": [
            "Simulação: Engajamento detectado no Twitter com posts sobre 'FURIA'. Segue os canais de 'Gaules' e 'Baiano' na Twitch.\n",
            "Status 'social_validation_sim' atualizado para 'Simulação: Engajamento detectado no Twitter com posts sobre 'FURIA'. Segue os canais de 'Gaules' e 'Baiano' na Twitch.' para o fã ID 1.\n"
          ]
        },
        {
          "output_type": "display_data",
          "data": {
            "text/plain": [
              "<IPython.core.display.Markdown object>"
            ],
            "text/markdown": "\n**Status Atualizado no Banco:**"
          },
          "metadata": {}
        },
        {
          "output_type": "display_data",
          "data": {
            "text/plain": [
              "   id    full_name                              social_validation_sim\n",
              "0   1  Lucas Silva  Simulação: Engajamento detectado no Twitter co..."
            ],
            "text/html": [
              "\n",
              "  <div id=\"df-900bd127-03dd-4b9a-9e2a-bd4b5b7639f2\" class=\"colab-df-container\">\n",
              "    <div>\n",
              "<style scoped>\n",
              "    .dataframe tbody tr th:only-of-type {\n",
              "        vertical-align: middle;\n",
              "    }\n",
              "\n",
              "    .dataframe tbody tr th {\n",
              "        vertical-align: top;\n",
              "    }\n",
              "\n",
              "    .dataframe thead th {\n",
              "        text-align: right;\n",
              "    }\n",
              "</style>\n",
              "<table border=\"1\" class=\"dataframe\">\n",
              "  <thead>\n",
              "    <tr style=\"text-align: right;\">\n",
              "      <th></th>\n",
              "      <th>id</th>\n",
              "      <th>full_name</th>\n",
              "      <th>social_validation_sim</th>\n",
              "    </tr>\n",
              "  </thead>\n",
              "  <tbody>\n",
              "    <tr>\n",
              "      <th>0</th>\n",
              "      <td>1</td>\n",
              "      <td>Lucas Silva</td>\n",
              "      <td>Simulação: Engajamento detectado no Twitter co...</td>\n",
              "    </tr>\n",
              "  </tbody>\n",
              "</table>\n",
              "</div>\n",
              "    <div class=\"colab-df-buttons\">\n",
              "\n",
              "  <div class=\"colab-df-container\">\n",
              "    <button class=\"colab-df-convert\" onclick=\"convertToInteractive('df-900bd127-03dd-4b9a-9e2a-bd4b5b7639f2')\"\n",
              "            title=\"Convert this dataframe to an interactive table.\"\n",
              "            style=\"display:none;\">\n",
              "\n",
              "  <svg xmlns=\"http://www.w3.org/2000/svg\" height=\"24px\" viewBox=\"0 -960 960 960\">\n",
              "    <path d=\"M120-120v-720h720v720H120Zm60-500h600v-160H180v160Zm220 220h160v-160H400v160Zm0 220h160v-160H400v160ZM180-400h160v-160H180v160Zm440 0h160v-160H620v160ZM180-180h160v-160H180v160Zm440 0h160v-160H620v160Z\"/>\n",
              "  </svg>\n",
              "    </button>\n",
              "\n",
              "  <style>\n",
              "    .colab-df-container {\n",
              "      display:flex;\n",
              "      gap: 12px;\n",
              "    }\n",
              "\n",
              "    .colab-df-convert {\n",
              "      background-color: #E8F0FE;\n",
              "      border: none;\n",
              "      border-radius: 50%;\n",
              "      cursor: pointer;\n",
              "      display: none;\n",
              "      fill: #1967D2;\n",
              "      height: 32px;\n",
              "      padding: 0 0 0 0;\n",
              "      width: 32px;\n",
              "    }\n",
              "\n",
              "    .colab-df-convert:hover {\n",
              "      background-color: #E2EBFA;\n",
              "      box-shadow: 0px 1px 2px rgba(60, 64, 67, 0.3), 0px 1px 3px 1px rgba(60, 64, 67, 0.15);\n",
              "      fill: #174EA6;\n",
              "    }\n",
              "\n",
              "    .colab-df-buttons div {\n",
              "      margin-bottom: 4px;\n",
              "    }\n",
              "\n",
              "    [theme=dark] .colab-df-convert {\n",
              "      background-color: #3B4455;\n",
              "      fill: #D2E3FC;\n",
              "    }\n",
              "\n",
              "    [theme=dark] .colab-df-convert:hover {\n",
              "      background-color: #434B5C;\n",
              "      box-shadow: 0px 1px 3px 1px rgba(0, 0, 0, 0.15);\n",
              "      filter: drop-shadow(0px 1px 2px rgba(0, 0, 0, 0.3));\n",
              "      fill: #FFFFFF;\n",
              "    }\n",
              "  </style>\n",
              "\n",
              "    <script>\n",
              "      const buttonEl =\n",
              "        document.querySelector('#df-900bd127-03dd-4b9a-9e2a-bd4b5b7639f2 button.colab-df-convert');\n",
              "      buttonEl.style.display =\n",
              "        google.colab.kernel.accessAllowed ? 'block' : 'none';\n",
              "\n",
              "      async function convertToInteractive(key) {\n",
              "        const element = document.querySelector('#df-900bd127-03dd-4b9a-9e2a-bd4b5b7639f2');\n",
              "        const dataTable =\n",
              "          await google.colab.kernel.invokeFunction('convertToInteractive',\n",
              "                                                    [key], {});\n",
              "        if (!dataTable) return;\n",
              "\n",
              "        const docLinkHtml = 'Like what you see? Visit the ' +\n",
              "          '<a target=\"_blank\" href=https://colab.research.google.com/notebooks/data_table.ipynb>data table notebook</a>'\n",
              "          + ' to learn more about interactive tables.';\n",
              "        element.innerHTML = '';\n",
              "        dataTable['output_type'] = 'display_data';\n",
              "        await google.colab.output.renderOutput(dataTable, element);\n",
              "        const docLink = document.createElement('div');\n",
              "        docLink.innerHTML = docLinkHtml;\n",
              "        element.appendChild(docLink);\n",
              "      }\n",
              "    </script>\n",
              "  </div>\n",
              "\n",
              "\n",
              "    </div>\n",
              "  </div>\n"
            ],
            "application/vnd.google.colaboratory.intrinsic+json": {
              "type": "dataframe",
              "summary": "{\n  \"name\": \"display(Markdown(\\\"---\\\"))\",\n  \"rows\": 1,\n  \"fields\": [\n    {\n      \"column\": \"id\",\n      \"properties\": {\n        \"dtype\": \"number\",\n        \"std\": null,\n        \"min\": 1,\n        \"max\": 1,\n        \"num_unique_values\": 1,\n        \"samples\": [\n          1\n        ],\n        \"semantic_type\": \"\",\n        \"description\": \"\"\n      }\n    },\n    {\n      \"column\": \"full_name\",\n      \"properties\": {\n        \"dtype\": \"string\",\n        \"num_unique_values\": 1,\n        \"samples\": [\n          \"Lucas Silva\"\n        ],\n        \"semantic_type\": \"\",\n        \"description\": \"\"\n      }\n    },\n    {\n      \"column\": \"social_validation_sim\",\n      \"properties\": {\n        \"dtype\": \"string\",\n        \"num_unique_values\": 1,\n        \"samples\": [\n          \"Simula\\u00e7\\u00e3o: Engajamento detectado no Twitter com posts sobre 'FURIA'. Segue os canais de 'Gaules' e 'Baiano' na Twitch.\"\n        ],\n        \"semantic_type\": \"\",\n        \"description\": \"\"\n      }\n    }\n  ]\n}"
            }
          },
          "metadata": {}
        },
        {
          "output_type": "display_data",
          "data": {
            "text/plain": [
              "<IPython.core.display.Markdown object>"
            ],
            "text/markdown": "---"
          },
          "metadata": {}
        }
      ],
      "source": [
        "# Célula 7: Vínculo com Redes Sociais (Conceitual / Simulado) - DINÂMICO\n",
        "\n",
        "# Importar novamente para garantir (opcional se Célula 1 rodou)\n",
        "import json\n",
        "import pandas as pd\n",
        "from IPython.display import display, Markdown\n",
        "\n",
        "display(Markdown(\"---\"))\n",
        "display(Markdown(\"## 🔗 Vínculo com Redes Sociais (Conceitual / Simulado)\"))\n",
        "\n",
        "# --- Obter ID do Fã para Simulação --- ## MODIFICADO ##\n",
        "# Pede ao usuário para digitar o ID do fã alvo\n",
        "fan_id_input_sim = input(\"Digite o ID do fã para executar a simulação social: \")\n",
        "target_fan_id = None # Inicializa como None para controle de erro\n",
        "try:\n",
        "    # Tenta converter o input para inteiro\n",
        "    target_fan_id = int(fan_id_input_sim)\n",
        "    # Imprime confirmação do ID que será usado\n",
        "    print(f\"Tentando executar simulação social para o Fã ID: {target_fan_id}\")\n",
        "except ValueError:\n",
        "    # Informa erro se o input não for um número válido\n",
        "    print(\"ID inválido. Por favor, digite um número.\")\n",
        "    # target_fan_id permanece None, e a lógica principal abaixo não será executada\n",
        "\n",
        "# --- Executa a lógica principal apenas se um ID válido foi fornecido --- ## ADICIONADO IF AQUI ##\n",
        "if target_fan_id is not None:\n",
        "    # Busca os dados completos do fã alvo usando a função auxiliar\n",
        "    fan_data = get_fan(target_fan_id)\n",
        "\n",
        "    # Verifica se o fã com o ID especificado foi encontrado no banco\n",
        "    if not fan_data:\n",
        "        print(f\"Fã com ID {target_fan_id} não encontrado.\")\n",
        "    else:\n",
        "        # --- Bloco de Lógica da Simulação (sem alterações internas) ---\n",
        "\n",
        "        # Se o fã foi encontrado, exibe para quem a simulação se aplica\n",
        "        display(Markdown(f\"**Simulando para o Fã:** {fan_data['full_name']} (ID: {target_fan_id})\"))\n",
        "\n",
        "        # --- Etapa 1: Exibir Links Sociais Fornecidos pelo Fã ---\n",
        "        display(Markdown(\"\\n**Links Sociais Fornecidos:**\"))\n",
        "        social_links_dict = {}\n",
        "        try:\n",
        "            loaded_links = json.loads(fan_data.get('social_links', '{}'))\n",
        "            if isinstance(loaded_links, dict):\n",
        "                social_links_dict = loaded_links\n",
        "            if not social_links_dict or all(not v for v in social_links_dict.values()):\n",
        "                 print(\"Nenhum link social fornecido ou encontrado para este fã.\")\n",
        "            else:\n",
        "                 for platform, link in social_links_dict.items():\n",
        "                     if link and isinstance(link, str) and link.strip():\n",
        "                         display(Markdown(f\"- {platform.capitalize()}: [{link}]({link})\"))\n",
        "                     else:\n",
        "                         display(Markdown(f\"- {platform.capitalize()}: Não fornecido\"))\n",
        "        except json.JSONDecodeError:\n",
        "            print(\"Erro ao ler/decodificar links sociais do banco de dados.\")\n",
        "        except Exception as e:\n",
        "            print(f\"Erro inesperado ao processar links sociais: {e}\")\n",
        "\n",
        "        # --- Etapa 2: Explicação Conceitual (OAuth + API) ---\n",
        "        display(Markdown(\"\\n**Conceito de Validação/Leitura:**\"))\n",
        "        display(Markdown(\n",
        "            \"1.  **Autorização (OAuth 2.0):** ...\\n\"\n",
        "            \"2.  **Coleta via API:** ...\\n\"\n",
        "            \"    * **Twitter:** ...\\n\"\n",
        "            \"    * **Twitch:** ...\"\n",
        "        )) # Mantido abreviado para clareza da resposta\n",
        "\n",
        "        # --- Etapa 3: Geração do Resultado Simulado ---\n",
        "        display(Markdown(\"\\n**Resultado da Validação (Simulado):**\"))\n",
        "        simulated_social_result = f\"Simulação: Engajamento detectado no Twitter com posts sobre 'FURIA'. Segue os canais de 'Gaules' e 'Baiano' na Twitch.\"\n",
        "        print(simulated_social_result)\n",
        "\n",
        "        # --- Etapa 4: Atualização do Status Simulado no Banco de Dados ---\n",
        "        update_fan_status(target_fan_id, 'social_validation_sim', simulated_social_result)\n",
        "\n",
        "        # --- Etapa 5: Exibição do Status Atualizado para Confirmação ---\n",
        "        display(Markdown(\"\\n**Status Atualizado no Banco:**\"))\n",
        "        updated_fan_data = get_fan(target_fan_id)\n",
        "        if updated_fan_data:\n",
        "            display(pd.DataFrame([{'id': updated_fan_data['id'],\n",
        "                                  'full_name': updated_fan_data['full_name'],\n",
        "                                  'social_validation_sim': updated_fan_data['social_validation_sim']}]))\n",
        "        else:\n",
        "            print(f\"Não foi possível verificar o status atualizado para o fã ID {target_fan_id}.\")\n",
        "\n",
        "# --- Formatação Final ---\n",
        "display(Markdown(\"---\"))\n"
      ]
    },
    {
      "cell_type": "markdown",
      "metadata": {
        "id": "7U0u65i7U3s9"
      },
      "source": [
        "## Passo 5: Simulação - Vínculo E-sports\n",
        "\n",
        "Similarmente à etapa anterior, a próxima célula simulará a validação dos perfis de e-sports para um ID de fã especificado, explicando o conceito e salvando o resultado simulado."
      ]
    },
    {
      "cell_type": "code",
      "execution_count": 8,
      "metadata": {
        "colab": {
          "base_uri": "https://localhost:8080/",
          "height": 536
        },
        "collapsed": true,
        "id": "VATJcejuCnvB",
        "outputId": "97ea3946-3950-4333-8610-387f394cd2cb"
      },
      "outputs": [
        {
          "output_type": "display_data",
          "data": {
            "text/plain": [
              "<IPython.core.display.Markdown object>"
            ],
            "text/markdown": "---"
          },
          "metadata": {}
        },
        {
          "output_type": "display_data",
          "data": {
            "text/plain": [
              "<IPython.core.display.Markdown object>"
            ],
            "text/markdown": "## 🎮 Vínculo com Perfis de E-sports (Conceitual / Simulado)"
          },
          "metadata": {}
        },
        {
          "output_type": "stream",
          "name": "stdout",
          "text": [
            "Digite o ID do fã para executar a simulação de e-sports: 1\n",
            "Tentando executar simulação de e-sports para o Fã ID: 1\n"
          ]
        },
        {
          "output_type": "display_data",
          "data": {
            "text/plain": [
              "<IPython.core.display.Markdown object>"
            ],
            "text/markdown": "**Simulando para o Fã:** Lucas Silva (ID: 1)"
          },
          "metadata": {}
        },
        {
          "output_type": "display_data",
          "data": {
            "text/plain": [
              "<IPython.core.display.Markdown object>"
            ],
            "text/markdown": "\n**Perfis de E-sports Fornecidos:**"
          },
          "metadata": {}
        },
        {
          "output_type": "stream",
          "name": "stdout",
          "text": [
            "Nenhum perfil de e-sports fornecido ou encontrado para este fã.\n"
          ]
        },
        {
          "output_type": "display_data",
          "data": {
            "text/plain": [
              "<IPython.core.display.Markdown object>"
            ],
            "text/markdown": "\n**Conceito de Validação/Análise:**"
          },
          "metadata": {}
        },
        {
          "output_type": "display_data",
          "data": {
            "text/plain": [
              "<IPython.core.display.Markdown object>"
            ],
            "text/markdown": "1.  **Coleta de Dados:** ...\n2.  **Extração de Métricas:** ...\n    * **Horas Jogadas:** ...\n    * **Rank/Patente/Nível:** ...\n    * **Histórico:** ...\n    * **Conexões:** ...\n3.  **Análise (IA Opcional):** ..."
          },
          "metadata": {}
        },
        {
          "output_type": "display_data",
          "data": {
            "text/plain": [
              "<IPython.core.display.Markdown object>"
            ],
            "text/markdown": "\n**Resultado da Validação (Simulado):**"
          },
          "metadata": {}
        },
        {
          "output_type": "stream",
          "name": "stdout",
          "text": [
            "Simulação: Perfil 'other' analisado. Detectado Rank 'Platina' em plataforma competitiva. Histórico de partidas consistente com interesse em 'Valorant'.\n",
            "Status 'esports_validation_sim' atualizado para 'Simulação: Perfil 'other' analisado. Detectado Rank 'Platina' em plataforma competitiva. Histórico de partidas consistente com interesse em 'Valorant'.' para o fã ID 1.\n"
          ]
        },
        {
          "output_type": "display_data",
          "data": {
            "text/plain": [
              "<IPython.core.display.Markdown object>"
            ],
            "text/markdown": "\n**Status Atualizado no Banco:**"
          },
          "metadata": {}
        },
        {
          "output_type": "display_data",
          "data": {
            "text/plain": [
              "   id    full_name                             esports_validation_sim\n",
              "0   1  Lucas Silva  Simulação: Perfil 'other' analisado. Detectado..."
            ],
            "text/html": [
              "\n",
              "  <div id=\"df-81eb2e51-3dbd-4870-9d95-c796675f6ca8\" class=\"colab-df-container\">\n",
              "    <div>\n",
              "<style scoped>\n",
              "    .dataframe tbody tr th:only-of-type {\n",
              "        vertical-align: middle;\n",
              "    }\n",
              "\n",
              "    .dataframe tbody tr th {\n",
              "        vertical-align: top;\n",
              "    }\n",
              "\n",
              "    .dataframe thead th {\n",
              "        text-align: right;\n",
              "    }\n",
              "</style>\n",
              "<table border=\"1\" class=\"dataframe\">\n",
              "  <thead>\n",
              "    <tr style=\"text-align: right;\">\n",
              "      <th></th>\n",
              "      <th>id</th>\n",
              "      <th>full_name</th>\n",
              "      <th>esports_validation_sim</th>\n",
              "    </tr>\n",
              "  </thead>\n",
              "  <tbody>\n",
              "    <tr>\n",
              "      <th>0</th>\n",
              "      <td>1</td>\n",
              "      <td>Lucas Silva</td>\n",
              "      <td>Simulação: Perfil 'other' analisado. Detectado...</td>\n",
              "    </tr>\n",
              "  </tbody>\n",
              "</table>\n",
              "</div>\n",
              "    <div class=\"colab-df-buttons\">\n",
              "\n",
              "  <div class=\"colab-df-container\">\n",
              "    <button class=\"colab-df-convert\" onclick=\"convertToInteractive('df-81eb2e51-3dbd-4870-9d95-c796675f6ca8')\"\n",
              "            title=\"Convert this dataframe to an interactive table.\"\n",
              "            style=\"display:none;\">\n",
              "\n",
              "  <svg xmlns=\"http://www.w3.org/2000/svg\" height=\"24px\" viewBox=\"0 -960 960 960\">\n",
              "    <path d=\"M120-120v-720h720v720H120Zm60-500h600v-160H180v160Zm220 220h160v-160H400v160Zm0 220h160v-160H400v160ZM180-400h160v-160H180v160Zm440 0h160v-160H620v160ZM180-180h160v-160H180v160Zm440 0h160v-160H620v160Z\"/>\n",
              "  </svg>\n",
              "    </button>\n",
              "\n",
              "  <style>\n",
              "    .colab-df-container {\n",
              "      display:flex;\n",
              "      gap: 12px;\n",
              "    }\n",
              "\n",
              "    .colab-df-convert {\n",
              "      background-color: #E8F0FE;\n",
              "      border: none;\n",
              "      border-radius: 50%;\n",
              "      cursor: pointer;\n",
              "      display: none;\n",
              "      fill: #1967D2;\n",
              "      height: 32px;\n",
              "      padding: 0 0 0 0;\n",
              "      width: 32px;\n",
              "    }\n",
              "\n",
              "    .colab-df-convert:hover {\n",
              "      background-color: #E2EBFA;\n",
              "      box-shadow: 0px 1px 2px rgba(60, 64, 67, 0.3), 0px 1px 3px 1px rgba(60, 64, 67, 0.15);\n",
              "      fill: #174EA6;\n",
              "    }\n",
              "\n",
              "    .colab-df-buttons div {\n",
              "      margin-bottom: 4px;\n",
              "    }\n",
              "\n",
              "    [theme=dark] .colab-df-convert {\n",
              "      background-color: #3B4455;\n",
              "      fill: #D2E3FC;\n",
              "    }\n",
              "\n",
              "    [theme=dark] .colab-df-convert:hover {\n",
              "      background-color: #434B5C;\n",
              "      box-shadow: 0px 1px 3px 1px rgba(0, 0, 0, 0.15);\n",
              "      filter: drop-shadow(0px 1px 2px rgba(0, 0, 0, 0.3));\n",
              "      fill: #FFFFFF;\n",
              "    }\n",
              "  </style>\n",
              "\n",
              "    <script>\n",
              "      const buttonEl =\n",
              "        document.querySelector('#df-81eb2e51-3dbd-4870-9d95-c796675f6ca8 button.colab-df-convert');\n",
              "      buttonEl.style.display =\n",
              "        google.colab.kernel.accessAllowed ? 'block' : 'none';\n",
              "\n",
              "      async function convertToInteractive(key) {\n",
              "        const element = document.querySelector('#df-81eb2e51-3dbd-4870-9d95-c796675f6ca8');\n",
              "        const dataTable =\n",
              "          await google.colab.kernel.invokeFunction('convertToInteractive',\n",
              "                                                    [key], {});\n",
              "        if (!dataTable) return;\n",
              "\n",
              "        const docLinkHtml = 'Like what you see? Visit the ' +\n",
              "          '<a target=\"_blank\" href=https://colab.research.google.com/notebooks/data_table.ipynb>data table notebook</a>'\n",
              "          + ' to learn more about interactive tables.';\n",
              "        element.innerHTML = '';\n",
              "        dataTable['output_type'] = 'display_data';\n",
              "        await google.colab.output.renderOutput(dataTable, element);\n",
              "        const docLink = document.createElement('div');\n",
              "        docLink.innerHTML = docLinkHtml;\n",
              "        element.appendChild(docLink);\n",
              "      }\n",
              "    </script>\n",
              "  </div>\n",
              "\n",
              "\n",
              "    </div>\n",
              "  </div>\n"
            ],
            "application/vnd.google.colaboratory.intrinsic+json": {
              "type": "dataframe",
              "summary": "{\n  \"name\": \"display(Markdown(\\\"---\\\"))\",\n  \"rows\": 1,\n  \"fields\": [\n    {\n      \"column\": \"id\",\n      \"properties\": {\n        \"dtype\": \"number\",\n        \"std\": null,\n        \"min\": 1,\n        \"max\": 1,\n        \"num_unique_values\": 1,\n        \"samples\": [\n          1\n        ],\n        \"semantic_type\": \"\",\n        \"description\": \"\"\n      }\n    },\n    {\n      \"column\": \"full_name\",\n      \"properties\": {\n        \"dtype\": \"string\",\n        \"num_unique_values\": 1,\n        \"samples\": [\n          \"Lucas Silva\"\n        ],\n        \"semantic_type\": \"\",\n        \"description\": \"\"\n      }\n    },\n    {\n      \"column\": \"esports_validation_sim\",\n      \"properties\": {\n        \"dtype\": \"string\",\n        \"num_unique_values\": 1,\n        \"samples\": [\n          \"Simula\\u00e7\\u00e3o: Perfil 'other' analisado. Detectado Rank 'Platina' em plataforma competitiva. Hist\\u00f3rico de partidas consistente com interesse em 'Valorant'.\"\n        ],\n        \"semantic_type\": \"\",\n        \"description\": \"\"\n      }\n    }\n  ]\n}"
            }
          },
          "metadata": {}
        },
        {
          "output_type": "display_data",
          "data": {
            "text/plain": [
              "<IPython.core.display.Markdown object>"
            ],
            "text/markdown": "---"
          },
          "metadata": {}
        }
      ],
      "source": [
        "# Célula 8: Vínculo com Perfis de E-sports (Conceitual / Simulado) - DINÂMICO\n",
        "\n",
        "# Importar novamente para garantir (opcional se Célula 1 rodou)\n",
        "import json\n",
        "import pandas as pd\n",
        "from IPython.display import display, Markdown\n",
        "\n",
        "display(Markdown(\"---\"))\n",
        "display(Markdown(\"## 🎮 Vínculo com Perfis de E-sports (Conceitual / Simulado)\"))\n",
        "\n",
        "# --- Obter ID do Fã para Simulação --- ## MODIFICADO ##\n",
        "# Pede ao usuário para digitar o ID do fã alvo\n",
        "fan_id_input_sim_esports = input(\"Digite o ID do fã para executar a simulação de e-sports: \")\n",
        "target_fan_id = None # Inicializa como None para controle de erro\n",
        "try:\n",
        "    # Tenta converter o input para inteiro\n",
        "    target_fan_id = int(fan_id_input_sim_esports)\n",
        "    # Imprime confirmação do ID que será usado\n",
        "    print(f\"Tentando executar simulação de e-sports para o Fã ID: {target_fan_id}\")\n",
        "except ValueError:\n",
        "    # Informa erro se o input não for um número válido\n",
        "    print(\"ID inválido. Por favor, digite um número.\")\n",
        "    # target_fan_id permanece None, e a lógica principal abaixo não será executada\n",
        "\n",
        "# --- Executa a lógica principal apenas se um ID válido foi fornecido --- ## ADICIONADO IF AQUI ##\n",
        "if target_fan_id is not None:\n",
        "    # Busca os dados completos do fã alvo.\n",
        "    fan_data = get_fan(target_fan_id)\n",
        "\n",
        "    # Verifica se o fã foi encontrado.\n",
        "    if not fan_data:\n",
        "        print(f\"Fã com ID {target_fan_id} não encontrado.\")\n",
        "    else:\n",
        "        # --- Bloco de Lógica da Simulação (sem alterações internas) ---\n",
        "\n",
        "        # Se encontrou, exibe para quem a simulação se aplica.\n",
        "        display(Markdown(f\"**Simulando para o Fã:** {fan_data['full_name']} (ID: {target_fan_id})\"))\n",
        "\n",
        "        # --- Etapa 1: Exibir Links de Perfis de E-sports Fornecidos ---\n",
        "        display(Markdown(\"\\n**Perfis de E-sports Fornecidos:**\"))\n",
        "        esports_profiles_dict = {}\n",
        "        try:\n",
        "            loaded_profiles = json.loads(fan_data.get('esports_profiles', '{}'))\n",
        "            if isinstance(loaded_profiles, dict):\n",
        "                esports_profiles_dict = loaded_profiles\n",
        "            if not esports_profiles_dict or all(not v for v in esports_profiles_dict.values()):\n",
        "                 print(\"Nenhum perfil de e-sports fornecido ou encontrado para este fã.\")\n",
        "            else:\n",
        "                 for platform, link in esports_profiles_dict.items():\n",
        "                     if link and isinstance(link, str) and link.strip():\n",
        "                         display(Markdown(f\"- {platform.capitalize()}: [{link}]({link})\"))\n",
        "        except json.JSONDecodeError:\n",
        "            print(\"Erro ao ler/decodificar perfis de e-sports do banco de dados.\")\n",
        "        except Exception as e:\n",
        "             print(f\"Erro inesperado ao processar perfis de e-sports: {e}\")\n",
        "\n",
        "        # --- Etapa 2: Explicação Conceitual (API / Scraping) ---\n",
        "        display(Markdown(\"\\n**Conceito de Validação/Análise:**\"))\n",
        "        display(Markdown(\n",
        "            \"1.  **Coleta de Dados:** ...\\n\"\n",
        "            \"2.  **Extração de Métricas:** ...\\n\"\n",
        "            \"    * **Horas Jogadas:** ...\\n\"\n",
        "            \"    * **Rank/Patente/Nível:** ...\\n\"\n",
        "            \"    * **Histórico:** ...\\n\"\n",
        "            \"    * **Conexões:** ...\\n\"\n",
        "            \"3.  **Análise (IA Opcional):** ...\"\n",
        "        )) # Mantido abreviado para clareza da resposta\n",
        "\n",
        "        # --- Etapa 3: Geração do Resultado Simulado ---\n",
        "        display(Markdown(\"\\n**Resultado da Validação (Simulado):**\"))\n",
        "        simulated_esports_result = f\"Simulação: Perfil 'other' analisado. Detectado Rank 'Platina' em plataforma competitiva. Histórico de partidas consistente com interesse em 'Valorant'.\"\n",
        "        print(simulated_esports_result)\n",
        "\n",
        "        # --- Etapa 4: Atualização do Status Simulado no Banco de Dados ---\n",
        "        update_fan_status(target_fan_id, 'esports_validation_sim', simulated_esports_result)\n",
        "\n",
        "        # --- Etapa 5: Exibição do Status Atualizado para Confirmação ---\n",
        "        display(Markdown(\"\\n**Status Atualizado no Banco:**\"))\n",
        "        updated_fan_data = get_fan(target_fan_id)\n",
        "        if updated_fan_data:\n",
        "            display(pd.DataFrame([{'id': updated_fan_data['id'],\n",
        "                                  'full_name': updated_fan_data['full_name'],\n",
        "                                  'esports_validation_sim': updated_fan_data['esports_validation_sim']}]))\n",
        "        else:\n",
        "            print(f\"Não foi possível verificar o status atualizado para o fã ID {target_fan_id}.\")\n",
        "\n",
        "# --- Formatação Final ---\n",
        "display(Markdown(\"---\"))\n"
      ]
    },
    {
      "cell_type": "markdown",
      "metadata": {
        "id": "8WfYAq0HU6Hv"
      },
      "source": [
        "## Passo 6: Visualizar Perfil Completo\n",
        "\n",
        "Esta célula permite visualizar todos os dados armazenados e simulados para um único fã. Ela pedirá o ID do fã desejado."
      ]
    },
    {
      "cell_type": "code",
      "execution_count": 11,
      "metadata": {
        "collapsed": true,
        "id": "uyHdo36GDsHI",
        "outputId": "5a2a70c7-adae-40b8-ba41-932911e54dc5",
        "colab": {
          "base_uri": "https://localhost:8080/",
          "height": 716
        }
      },
      "outputs": [
        {
          "output_type": "display_data",
          "data": {
            "text/plain": [
              "<IPython.core.display.Markdown object>"
            ],
            "text/markdown": "---"
          },
          "metadata": {}
        },
        {
          "output_type": "display_data",
          "data": {
            "text/plain": [
              "<IPython.core.display.Markdown object>"
            ],
            "text/markdown": "## 👤 Visualizar Perfil Completo do Fã"
          },
          "metadata": {}
        },
        {
          "name": "stdout",
          "output_type": "stream",
          "text": [
            "Digite o ID do fã que deseja visualizar: 1\n"
          ]
        },
        {
          "output_type": "display_data",
          "data": {
            "text/plain": [
              "<IPython.core.display.Markdown object>"
            ],
            "text/markdown": "\n### Perfil de: **Lucas Silva** (ID: 1)"
          },
          "metadata": {}
        },
        {
          "output_type": "display_data",
          "data": {
            "text/plain": [
              "<IPython.core.display.Markdown object>"
            ],
            "text/markdown": "#### Dados Básicos"
          },
          "metadata": {}
        },
        {
          "output_type": "display_data",
          "data": {
            "text/plain": [
              "<IPython.core.display.Markdown object>"
            ],
            "text/markdown": "- **Endereço:** Não informado"
          },
          "metadata": {}
        },
        {
          "output_type": "display_data",
          "data": {
            "text/plain": [
              "<IPython.core.display.Markdown object>"
            ],
            "text/markdown": "- **CPF (Mascarado):** ***.473.968-**"
          },
          "metadata": {}
        },
        {
          "output_type": "display_data",
          "data": {
            "text/plain": [
              "<IPython.core.display.Markdown object>"
            ],
            "text/markdown": "---"
          },
          "metadata": {}
        },
        {
          "output_type": "display_data",
          "data": {
            "text/plain": [
              "<IPython.core.display.Markdown object>"
            ],
            "text/markdown": "#### Interesses e Atividades"
          },
          "metadata": {}
        },
        {
          "output_type": "display_data",
          "data": {
            "text/plain": [
              "<IPython.core.display.Markdown object>"
            ],
            "text/markdown": "- **Jogos de Interesse:**"
          },
          "metadata": {}
        },
        {
          "output_type": "display_data",
          "data": {
            "text/plain": [
              "<IPython.core.display.Markdown object>"
            ],
            "text/markdown": "  - Valorant"
          },
          "metadata": {}
        },
        {
          "output_type": "display_data",
          "data": {
            "text/plain": [
              "<IPython.core.display.Markdown object>"
            ],
            "text/markdown": "  - CS"
          },
          "metadata": {}
        },
        {
          "output_type": "display_data",
          "data": {
            "text/plain": [
              "<IPython.core.display.Markdown object>"
            ],
            "text/markdown": "  - LoL"
          },
          "metadata": {}
        },
        {
          "output_type": "display_data",
          "data": {
            "text/plain": [
              "<IPython.core.display.Markdown object>"
            ],
            "text/markdown": "- **Atividades:** Faço Streams"
          },
          "metadata": {}
        },
        {
          "output_type": "display_data",
          "data": {
            "text/plain": [
              "<IPython.core.display.Markdown object>"
            ],
            "text/markdown": "- **Eventos Comparecidos:** CBLOL"
          },
          "metadata": {}
        },
        {
          "output_type": "display_data",
          "data": {
            "text/plain": [
              "<IPython.core.display.Markdown object>"
            ],
            "text/markdown": "- **Compras Relacionadas:** Teclado e Mouse"
          },
          "metadata": {}
        },
        {
          "output_type": "display_data",
          "data": {
            "text/plain": [
              "<IPython.core.display.Markdown object>"
            ],
            "text/markdown": "---"
          },
          "metadata": {}
        },
        {
          "output_type": "display_data",
          "data": {
            "text/plain": [
              "<IPython.core.display.Markdown object>"
            ],
            "text/markdown": "#### Links e Perfis Online"
          },
          "metadata": {}
        },
        {
          "output_type": "display_data",
          "data": {
            "text/plain": [
              "<IPython.core.display.Markdown object>"
            ],
            "text/markdown": "**Links Sociais:**"
          },
          "metadata": {}
        },
        {
          "output_type": "display_data",
          "data": {
            "text/plain": [
              "<IPython.core.display.Markdown object>"
            ],
            "text/markdown": "  - Twitter: [https://x.com/smurfdomuca](https://x.com/smurfdomuca)"
          },
          "metadata": {}
        },
        {
          "output_type": "display_data",
          "data": {
            "text/plain": [
              "<IPython.core.display.Markdown object>"
            ],
            "text/markdown": "  - Twitch: Não fornecido"
          },
          "metadata": {}
        },
        {
          "output_type": "display_data",
          "data": {
            "text/plain": [
              "<IPython.core.display.Markdown object>"
            ],
            "text/markdown": "**Perfis E-sports:**"
          },
          "metadata": {}
        },
        {
          "output_type": "display_data",
          "data": {
            "text/plain": [
              "<IPython.core.display.Markdown object>"
            ],
            "text/markdown": "  - Nenhum perfil de e-sports fornecido."
          },
          "metadata": {}
        },
        {
          "output_type": "display_data",
          "data": {
            "text/plain": [
              "<IPython.core.display.Markdown object>"
            ],
            "text/markdown": "---"
          },
          "metadata": {}
        },
        {
          "output_type": "display_data",
          "data": {
            "text/plain": [
              "<IPython.core.display.Markdown object>"
            ],
            "text/markdown": "#### Status das Validações (Simuladas)"
          },
          "metadata": {}
        },
        {
          "output_type": "display_data",
          "data": {
            "text/plain": [
              "<IPython.core.display.Markdown object>"
            ],
            "text/markdown": "- **Validação Social:** Simulação: Engajamento detectado no Twitter com posts sobre 'FURIA'. Segue os canais de 'Gaules' e 'Baiano' na Twitch."
          },
          "metadata": {}
        },
        {
          "output_type": "display_data",
          "data": {
            "text/plain": [
              "<IPython.core.display.Markdown object>"
            ],
            "text/markdown": "- **Validação Perfis E-sports:** Simulação: Perfil 'other' analisado. Detectado Rank 'Platina' em plataforma competitiva. Histórico de partidas consistente com interesse em 'Valorant'."
          },
          "metadata": {}
        },
        {
          "output_type": "display_data",
          "data": {
            "text/plain": [
              "<IPython.core.display.Markdown object>"
            ],
            "text/markdown": "---"
          },
          "metadata": {}
        }
      ],
      "source": [
        "# Célula 9: Visualizar Perfil Completo de um Fã\n",
        "\n",
        "# Importar novamente caso o kernel tenha sido reiniciado\n",
        "import json\n",
        "import pandas as pd\n",
        "from IPython.display import display, Markdown\n",
        "\n",
        "display(Markdown(\"---\")) # Separador antes da célula\n",
        "display(Markdown(\"## 👤 Visualizar Perfil Completo do Fã\"))\n",
        "\n",
        "# --- Obter ID do Fã ---\n",
        "fan_id_input = input(\"Digite o ID do fã que deseja visualizar: \")\n",
        "try:\n",
        "    fan_id_to_view = int(fan_id_input)\n",
        "except ValueError:\n",
        "    print(\"ID inválido. Por favor, digite um número.\")\n",
        "    fan_id_to_view = None # Indica erro\n",
        "\n",
        "# --- Buscar e Exibir Dados ---\n",
        "if fan_id_to_view is not None:\n",
        "    # Busca os dados do fã (requer que get_fan da Célula 3 tenha sido executada)\n",
        "    fan_profile_data = get_fan(fan_id_to_view)\n",
        "\n",
        "    if not fan_profile_data:\n",
        "        print(f\"\\nFã com ID {fan_id_to_view} não encontrado.\")\n",
        "    else:\n",
        "        # Exibe o título do perfil\n",
        "        display(Markdown(f\"\\n### Perfil de: **{fan_profile_data['full_name']}** (ID: {fan_profile_data['id']})\"))\n",
        "\n",
        "        # --- Dados Básicos ---\n",
        "        display(Markdown(\"#### Dados Básicos\"))\n",
        "        display(Markdown(f\"- **Endereço:** {fan_profile_data.get('address') or 'Não informado'}\"))\n",
        "        display(Markdown(f\"- **CPF (Mascarado):** {fan_profile_data.get('cpf_masked') or 'Não informado'}\"))\n",
        "\n",
        "        # --- Separador Visual ---\n",
        "        display(Markdown(\"---\"))\n",
        "\n",
        "        # --- Interesses e Atividades ---\n",
        "        display(Markdown(\"#### Interesses e Atividades\"))\n",
        "        try:\n",
        "            # Processa e exibe lista de jogos como MARCADORES (Mantido)\n",
        "            display(Markdown(\"- **Jogos de Interesse:**\"))\n",
        "            games_list = json.loads(fan_profile_data.get('games_interest', '[]'))\n",
        "            if games_list:\n",
        "                for game in games_list:\n",
        "                    display(Markdown(f\"  - {game}\")) # Marcador para cada jogo\n",
        "            else:\n",
        "                display(Markdown(\"  - Não informado\"))\n",
        "\n",
        "            # Processa e exibe lista de atividades como STRING SEPARADA POR VÍRGULA ## REVERTIDO ##\n",
        "            activities_list = json.loads(fan_profile_data.get('activities', '[]'))\n",
        "            # Junta a lista em uma string única com ', ' como separador\n",
        "            activities_str = ', '.join(activities_list) if activities_list else 'Não informado'\n",
        "            # Exibe o rótulo e a string na mesma linha\n",
        "            display(Markdown(f\"- **Atividades:** {activities_str}\"))\n",
        "\n",
        "        except json.JSONDecodeError:\n",
        "            display(Markdown(\"- *Erro ao processar interesses/atividades (JSON inválido)*\"))\n",
        "\n",
        "        # Campos de texto livre\n",
        "        display(Markdown(f\"- **Eventos Comparecidos:** {fan_profile_data.get('events_attended') or 'Não informado'}\"))\n",
        "        display(Markdown(f\"- **Compras Relacionadas:** {fan_profile_data.get('esports_purchases') or 'Não informado'}\"))\n",
        "\n",
        "        # --- Separador Visual ---\n",
        "        display(Markdown(\"---\"))\n",
        "\n",
        "        # --- Links Online ---\n",
        "        # (Código para exibir Links Sociais e Perfis E-sports continua igual)\n",
        "        display(Markdown(\"#### Links e Perfis Online\"))\n",
        "        display(Markdown(\"**Links Sociais:**\"))\n",
        "        try:\n",
        "            social_links_dict = json.loads(fan_profile_data.get('social_links', '{}'))\n",
        "            if not social_links_dict or all(not v for v in social_links_dict.values()):\n",
        "                display(Markdown(\"  - Nenhum link social fornecido.\"))\n",
        "            else:\n",
        "                for platform, link in social_links_dict.items():\n",
        "                    if link and isinstance(link, str) and link.strip():\n",
        "                         display(Markdown(f\"  - {platform.capitalize()}: [{link}]({link})\"))\n",
        "                    else:\n",
        "                         display(Markdown(f\"  - {platform.capitalize()}: Não fornecido\"))\n",
        "        except json.JSONDecodeError:\n",
        "             display(Markdown(\"- *Erro ao processar links sociais (JSON inválido)*\"))\n",
        "\n",
        "        display(Markdown(\"**Perfis E-sports:**\"))\n",
        "        try:\n",
        "            esports_profiles_dict = json.loads(fan_profile_data.get('esports_profiles', '{}'))\n",
        "            if not esports_profiles_dict or all(not v for v in esports_profiles_dict.values()):\n",
        "                display(Markdown(\"  - Nenhum perfil de e-sports fornecido.\"))\n",
        "            else:\n",
        "                for platform, link in esports_profiles_dict.items():\n",
        "                     if link and isinstance(link, str) and link.strip():\n",
        "                         display(Markdown(f\"  - {platform.capitalize()}: [{link}]({link})\"))\n",
        "        except json.JSONDecodeError:\n",
        "             display(Markdown(\"- *Erro ao processar perfis e-sports (JSON inválido)*\"))\n",
        "\n",
        "        # --- Separador Visual ---\n",
        "        display(Markdown(\"---\"))\n",
        "\n",
        "        # --- Status das Validações Simuladas ---\n",
        "        # (Código para exibir Status continua igual)\n",
        "        display(Markdown(\"#### Status das Validações (Simuladas)\"))\n",
        "        display(Markdown(f\"- **Validação Social:** {fan_profile_data.get('social_validation_sim') or 'Pendente'}\"))\n",
        "        display(Markdown(f\"- **Validação Perfis E-sports:** {fan_profile_data.get('esports_validation_sim') or 'Pendente'}\"))\n",
        "\n",
        "# --- Formatação Final ---\n",
        "display(Markdown(\"---\"))"
      ]
    },
    {
      "cell_type": "markdown",
      "metadata": {
        "id": "zczx37eFU834"
      },
      "source": [
        "## Passo 7: Deletar um Fã\n",
        "\n",
        "Caso precise remover dados de teste, a célula a seguir pedirá o ID de um fã e tentará deletar o registro correspondente do banco de dados, mostrando a lista atualizada em seguida."
      ]
    },
    {
      "cell_type": "code",
      "execution_count": null,
      "metadata": {
        "id": "4gjAO4D8Tccn",
        "colab": {
          "base_uri": "https://localhost:8080/",
          "height": 462
        },
        "collapsed": true,
        "outputId": "0fa3e4cb-3251-4234-8e58-4e7c17065541"
      },
      "outputs": [
        {
          "data": {
            "text/markdown": "---",
            "text/plain": [
              "<IPython.core.display.Markdown object>"
            ]
          },
          "metadata": {},
          "output_type": "display_data"
        },
        {
          "data": {
            "text/markdown": "## 🗑️ Deletar Fã",
            "text/plain": [
              "<IPython.core.display.Markdown object>"
            ]
          },
          "metadata": {},
          "output_type": "display_data"
        },
        {
          "output_type": "error",
          "ename": "KeyboardInterrupt",
          "evalue": "Interrupted by user",
          "traceback": [
            "\u001b[0;31m---------------------------------------------------------------------------\u001b[0m",
            "\u001b[0;31mKeyboardInterrupt\u001b[0m                         Traceback (most recent call last)",
            "\u001b[0;32m<ipython-input-9-ee0b498ef227>\u001b[0m in \u001b[0;36m<cell line: 0>\u001b[0;34m()\u001b[0m\n\u001b[1;32m      9\u001b[0m \u001b[0;34m\u001b[0m\u001b[0m\n\u001b[1;32m     10\u001b[0m \u001b[0;31m# --- Obter ID do Fã para Deletar ---\u001b[0m\u001b[0;34m\u001b[0m\u001b[0;34m\u001b[0m\u001b[0m\n\u001b[0;32m---> 11\u001b[0;31m \u001b[0mfan_id_input_delete\u001b[0m \u001b[0;34m=\u001b[0m \u001b[0minput\u001b[0m\u001b[0;34m(\u001b[0m\u001b[0;34m\"Digite o ID do fã que deseja DELETAR: \"\u001b[0m\u001b[0;34m)\u001b[0m\u001b[0;34m\u001b[0m\u001b[0;34m\u001b[0m\u001b[0m\n\u001b[0m\u001b[1;32m     12\u001b[0m \u001b[0mtarget_delete_id\u001b[0m \u001b[0;34m=\u001b[0m \u001b[0;32mNone\u001b[0m \u001b[0;31m# Inicializa\u001b[0m\u001b[0;34m\u001b[0m\u001b[0;34m\u001b[0m\u001b[0m\n\u001b[1;32m     13\u001b[0m \u001b[0;32mtry\u001b[0m\u001b[0;34m:\u001b[0m\u001b[0;34m\u001b[0m\u001b[0;34m\u001b[0m\u001b[0m\n",
            "\u001b[0;32m/usr/local/lib/python3.11/dist-packages/ipykernel/kernelbase.py\u001b[0m in \u001b[0;36mraw_input\u001b[0;34m(self, prompt)\u001b[0m\n\u001b[1;32m   1175\u001b[0m                 \u001b[0;34m\"raw_input was called, but this frontend does not support input requests.\"\u001b[0m\u001b[0;34m\u001b[0m\u001b[0;34m\u001b[0m\u001b[0m\n\u001b[1;32m   1176\u001b[0m             )\n\u001b[0;32m-> 1177\u001b[0;31m         return self._input_request(\n\u001b[0m\u001b[1;32m   1178\u001b[0m             \u001b[0mstr\u001b[0m\u001b[0;34m(\u001b[0m\u001b[0mprompt\u001b[0m\u001b[0;34m)\u001b[0m\u001b[0;34m,\u001b[0m\u001b[0;34m\u001b[0m\u001b[0;34m\u001b[0m\u001b[0m\n\u001b[1;32m   1179\u001b[0m             \u001b[0mself\u001b[0m\u001b[0;34m.\u001b[0m\u001b[0m_parent_ident\u001b[0m\u001b[0;34m[\u001b[0m\u001b[0;34m\"shell\"\u001b[0m\u001b[0;34m]\u001b[0m\u001b[0;34m,\u001b[0m\u001b[0;34m\u001b[0m\u001b[0;34m\u001b[0m\u001b[0m\n",
            "\u001b[0;32m/usr/local/lib/python3.11/dist-packages/ipykernel/kernelbase.py\u001b[0m in \u001b[0;36m_input_request\u001b[0;34m(self, prompt, ident, parent, password)\u001b[0m\n\u001b[1;32m   1217\u001b[0m             \u001b[0;32mexcept\u001b[0m \u001b[0mKeyboardInterrupt\u001b[0m\u001b[0;34m:\u001b[0m\u001b[0;34m\u001b[0m\u001b[0;34m\u001b[0m\u001b[0m\n\u001b[1;32m   1218\u001b[0m                 \u001b[0;31m# re-raise KeyboardInterrupt, to truncate traceback\u001b[0m\u001b[0;34m\u001b[0m\u001b[0;34m\u001b[0m\u001b[0m\n\u001b[0;32m-> 1219\u001b[0;31m                 \u001b[0;32mraise\u001b[0m \u001b[0mKeyboardInterrupt\u001b[0m\u001b[0;34m(\u001b[0m\u001b[0;34m\"Interrupted by user\"\u001b[0m\u001b[0;34m)\u001b[0m \u001b[0;32mfrom\u001b[0m \u001b[0;32mNone\u001b[0m\u001b[0;34m\u001b[0m\u001b[0;34m\u001b[0m\u001b[0m\n\u001b[0m\u001b[1;32m   1220\u001b[0m             \u001b[0;32mexcept\u001b[0m \u001b[0mException\u001b[0m\u001b[0;34m:\u001b[0m\u001b[0;34m\u001b[0m\u001b[0;34m\u001b[0m\u001b[0m\n\u001b[1;32m   1221\u001b[0m                 \u001b[0mself\u001b[0m\u001b[0;34m.\u001b[0m\u001b[0mlog\u001b[0m\u001b[0;34m.\u001b[0m\u001b[0mwarning\u001b[0m\u001b[0;34m(\u001b[0m\u001b[0;34m\"Invalid Message:\"\u001b[0m\u001b[0;34m,\u001b[0m \u001b[0mexc_info\u001b[0m\u001b[0;34m=\u001b[0m\u001b[0;32mTrue\u001b[0m\u001b[0;34m)\u001b[0m\u001b[0;34m\u001b[0m\u001b[0;34m\u001b[0m\u001b[0m\n",
            "\u001b[0;31mKeyboardInterrupt\u001b[0m: Interrupted by user"
          ]
        }
      ],
      "source": [
        "# Célula 10: Deletar um Fã\n",
        "\n",
        "# Importar display/Markdown se for usar nesta célula\n",
        "from IPython.display import display, Markdown\n",
        "import pandas as pd # Para exibir a lista atualizada\n",
        "\n",
        "display(Markdown(\"---\"))\n",
        "display(Markdown(\"## 🗑️ Deletar Fã\"))\n",
        "\n",
        "# --- Obter ID do Fã para Deletar ---\n",
        "fan_id_input_delete = input(\"Digite o ID do fã que deseja DELETAR: \")\n",
        "target_delete_id = None # Inicializa\n",
        "try:\n",
        "    target_delete_id = int(fan_id_input_delete)\n",
        "except ValueError:\n",
        "    print(\"ID inválido. Por favor, digite um número.\")\n",
        "    # target_delete_id permanece None\n",
        "\n",
        "# --- Tentar Deletar (apenas se o ID for válido) ---\n",
        "if target_delete_id is not None:\n",
        "    # Chama a função auxiliar definida na Célula 3\n",
        "    deleted = delete_fan(target_delete_id)\n",
        "    # A função delete_fan já imprime mensagens de sucesso ou falha\n",
        "\n",
        "    # --- Mostrar Lista Atualizada (Confirmação Visual) ---\n",
        "    # Após tentar deletar, busca e exibe novamente a lista de fãs\n",
        "    # para que possamos ver se o fã foi realmente removido.\n",
        "    display(Markdown(\"\\n**Lista de Fãs Atualizada:**\"))\n",
        "    all_fans_summary_after_delete = get_all_fans() # Requer que get_all_fans esteja definida (Célula 3)\n",
        "\n",
        "    if not all_fans_summary_after_delete:\n",
        "        print(\"Nenhum fã restou no banco de dados.\")\n",
        "    else:\n",
        "        print(f\"Atualmente há {len(all_fans_summary_after_delete)} fãs no banco:\")\n",
        "        fans_df_after_delete = pd.DataFrame(all_fans_summary_after_delete)\n",
        "        display(fans_df_after_delete)\n",
        "else:\n",
        "    # Mensagem se o ID digitado inicialmente era inválido\n",
        "    print(\"Nenhuma ação de deleção realizada devido a ID inválido.\")\n",
        "\n",
        "\n",
        "display(Markdown(\"---\"))"
      ]
    }
  ],
  "metadata": {
    "colab": {
      "toc_visible": true,
      "provenance": []
    },
    "kernelspec": {
      "display_name": "Python 3",
      "name": "python3"
    },
    "language_info": {
      "name": "python"
    },
    "widgets": {
      "application/vnd.jupyter.widget-state+json": {
        "15f55a6298e64bf48d742f17235d7031": {
          "model_module": "@jupyter-widgets/controls",
          "model_name": "VBoxModel",
          "model_module_version": "1.5.0",
          "state": {
            "_dom_classes": [],
            "_model_module": "@jupyter-widgets/controls",
            "_model_module_version": "1.5.0",
            "_model_name": "VBoxModel",
            "_view_count": null,
            "_view_module": "@jupyter-widgets/controls",
            "_view_module_version": "1.5.0",
            "_view_name": "VBoxView",
            "box_style": "",
            "children": [
              "IPY_MODEL_01457a4ba09d4c25b97b900c5e86c8f4",
              "IPY_MODEL_82018240585f4bf08421671d5e85f1c3",
              "IPY_MODEL_a03d8808ac8943cab128d662b5ae5be4",
              "IPY_MODEL_0fa78d3038f944ce9807064545a518af",
              "IPY_MODEL_e347acec8828485cbcc7070246325e40",
              "IPY_MODEL_480e7f764acb4bb2992262010cc289d4"
            ],
            "layout": "IPY_MODEL_0d70ea96afa1474bafbb532c63f51e61"
          }
        },
        "01457a4ba09d4c25b97b900c5e86c8f4": {
          "model_module": "@jupyter-widgets/controls",
          "model_name": "HTMLModel",
          "model_module_version": "1.5.0",
          "state": {
            "_dom_classes": [],
            "_model_module": "@jupyter-widgets/controls",
            "_model_module_version": "1.5.0",
            "_model_name": "HTMLModel",
            "_view_count": null,
            "_view_module": "@jupyter-widgets/controls",
            "_view_module_version": "1.5.0",
            "_view_name": "HTMLView",
            "description": "",
            "description_tooltip": null,
            "layout": "IPY_MODEL_101d508c577f468d9d7cfe022e756e57",
            "placeholder": "​",
            "style": "IPY_MODEL_cdc5762e86bc4fde9af48aa19d9723bc",
            "value": "<h2>📝 Coleta de Dados do Novo Fã</h2><p>Preencha as informações abaixo e clique em Salvar.</p><hr>"
          }
        },
        "82018240585f4bf08421671d5e85f1c3": {
          "model_module": "@jupyter-widgets/controls",
          "model_name": "VBoxModel",
          "model_module_version": "1.5.0",
          "state": {
            "_dom_classes": [],
            "_model_module": "@jupyter-widgets/controls",
            "_model_module_version": "1.5.0",
            "_model_name": "VBoxModel",
            "_view_count": null,
            "_view_module": "@jupyter-widgets/controls",
            "_view_module_version": "1.5.0",
            "_view_name": "VBoxView",
            "box_style": "",
            "children": [
              "IPY_MODEL_9dee42a282c34121bdd54c7b207126b4",
              "IPY_MODEL_931bc62131fa4d0283b27c42d2d68ca7",
              "IPY_MODEL_b4ce30b7cc3d402da2efbc43189ea211"
            ],
            "layout": "IPY_MODEL_88b47a99a17a49bfa834ccf2526679c8"
          }
        },
        "a03d8808ac8943cab128d662b5ae5be4": {
          "model_module": "@jupyter-widgets/controls",
          "model_name": "VBoxModel",
          "model_module_version": "1.5.0",
          "state": {
            "_dom_classes": [],
            "_model_module": "@jupyter-widgets/controls",
            "_model_module_version": "1.5.0",
            "_model_name": "VBoxModel",
            "_view_count": null,
            "_view_module": "@jupyter-widgets/controls",
            "_view_module_version": "1.5.0",
            "_view_name": "VBoxView",
            "box_style": "",
            "children": [
              "IPY_MODEL_f968a93898b94c35a2c1188c70e04fd9",
              "IPY_MODEL_f3391d7e113743f98d278ab03ea23f2f",
              "IPY_MODEL_51ab4a261e1845be920ea95aac22e9fa"
            ],
            "layout": "IPY_MODEL_d941594a03c2448998bf21c60b1a8f6e"
          }
        },
        "0fa78d3038f944ce9807064545a518af": {
          "model_module": "@jupyter-widgets/controls",
          "model_name": "VBoxModel",
          "model_module_version": "1.5.0",
          "state": {
            "_dom_classes": [],
            "_model_module": "@jupyter-widgets/controls",
            "_model_module_version": "1.5.0",
            "_model_name": "VBoxModel",
            "_view_count": null,
            "_view_module": "@jupyter-widgets/controls",
            "_view_module_version": "1.5.0",
            "_view_name": "VBoxView",
            "box_style": "",
            "children": [
              "IPY_MODEL_dd251735f8c843a2b3bcd7443c58ecde",
              "IPY_MODEL_6655e5beca1a404faff248348654a65f",
              "IPY_MODEL_96d26ec238fd40d59906025bfecc14e8",
              "IPY_MODEL_6c81009dce4041eca49d7714bbc17ba6",
              "IPY_MODEL_303e78c2aace4d25b530cc15245461cb"
            ],
            "layout": "IPY_MODEL_7d1b3f981d0744d392d2a6cdf226e5d2"
          }
        },
        "e347acec8828485cbcc7070246325e40": {
          "model_module": "@jupyter-widgets/controls",
          "model_name": "VBoxModel",
          "model_module_version": "1.5.0",
          "state": {
            "_dom_classes": [],
            "_model_module": "@jupyter-widgets/controls",
            "_model_module_version": "1.5.0",
            "_model_name": "VBoxModel",
            "_view_count": null,
            "_view_module": "@jupyter-widgets/controls",
            "_view_module_version": "1.5.0",
            "_view_name": "VBoxView",
            "box_style": "",
            "children": [
              "IPY_MODEL_b699782a224c477c8d180b1b6dfb249c",
              "IPY_MODEL_853918addfe2482290ab0f28aee45678",
              "IPY_MODEL_42313c18b76f409281fba2c5b9f2ace5",
              "IPY_MODEL_8b3b63ac95fe4fbebb246ffac1ac88c1"
            ],
            "layout": "IPY_MODEL_5c4e205183f340fe980090eb42a90cf6"
          }
        },
        "480e7f764acb4bb2992262010cc289d4": {
          "model_module": "@jupyter-widgets/controls",
          "model_name": "ButtonModel",
          "model_module_version": "1.5.0",
          "state": {
            "_dom_classes": [],
            "_model_module": "@jupyter-widgets/controls",
            "_model_module_version": "1.5.0",
            "_model_name": "ButtonModel",
            "_view_count": null,
            "_view_module": "@jupyter-widgets/controls",
            "_view_module_version": "1.5.0",
            "_view_name": "ButtonView",
            "button_style": "success",
            "description": "Salvar Fã",
            "disabled": false,
            "icon": "save",
            "layout": "IPY_MODEL_6790bc6cad394167a0dc618e0dc76168",
            "style": "IPY_MODEL_240ead6413fe440fb612aaa161877740",
            "tooltip": ""
          }
        },
        "0d70ea96afa1474bafbb532c63f51e61": {
          "model_module": "@jupyter-widgets/base",
          "model_name": "LayoutModel",
          "model_module_version": "1.2.0",
          "state": {
            "_model_module": "@jupyter-widgets/base",
            "_model_module_version": "1.2.0",
            "_model_name": "LayoutModel",
            "_view_count": null,
            "_view_module": "@jupyter-widgets/base",
            "_view_module_version": "1.2.0",
            "_view_name": "LayoutView",
            "align_content": null,
            "align_items": null,
            "align_self": null,
            "border": null,
            "bottom": null,
            "display": null,
            "flex": null,
            "flex_flow": null,
            "grid_area": null,
            "grid_auto_columns": null,
            "grid_auto_flow": null,
            "grid_auto_rows": null,
            "grid_column": null,
            "grid_gap": null,
            "grid_row": null,
            "grid_template_areas": null,
            "grid_template_columns": null,
            "grid_template_rows": null,
            "height": null,
            "justify_content": null,
            "justify_items": null,
            "left": null,
            "margin": null,
            "max_height": null,
            "max_width": null,
            "min_height": null,
            "min_width": null,
            "object_fit": null,
            "object_position": null,
            "order": null,
            "overflow": null,
            "overflow_x": null,
            "overflow_y": null,
            "padding": null,
            "right": null,
            "top": null,
            "visibility": null,
            "width": null
          }
        },
        "101d508c577f468d9d7cfe022e756e57": {
          "model_module": "@jupyter-widgets/base",
          "model_name": "LayoutModel",
          "model_module_version": "1.2.0",
          "state": {
            "_model_module": "@jupyter-widgets/base",
            "_model_module_version": "1.2.0",
            "_model_name": "LayoutModel",
            "_view_count": null,
            "_view_module": "@jupyter-widgets/base",
            "_view_module_version": "1.2.0",
            "_view_name": "LayoutView",
            "align_content": null,
            "align_items": null,
            "align_self": null,
            "border": null,
            "bottom": null,
            "display": null,
            "flex": null,
            "flex_flow": null,
            "grid_area": null,
            "grid_auto_columns": null,
            "grid_auto_flow": null,
            "grid_auto_rows": null,
            "grid_column": null,
            "grid_gap": null,
            "grid_row": null,
            "grid_template_areas": null,
            "grid_template_columns": null,
            "grid_template_rows": null,
            "height": null,
            "justify_content": null,
            "justify_items": null,
            "left": null,
            "margin": null,
            "max_height": null,
            "max_width": null,
            "min_height": null,
            "min_width": null,
            "object_fit": null,
            "object_position": null,
            "order": null,
            "overflow": null,
            "overflow_x": null,
            "overflow_y": null,
            "padding": null,
            "right": null,
            "top": null,
            "visibility": null,
            "width": null
          }
        },
        "cdc5762e86bc4fde9af48aa19d9723bc": {
          "model_module": "@jupyter-widgets/controls",
          "model_name": "DescriptionStyleModel",
          "model_module_version": "1.5.0",
          "state": {
            "_model_module": "@jupyter-widgets/controls",
            "_model_module_version": "1.5.0",
            "_model_name": "DescriptionStyleModel",
            "_view_count": null,
            "_view_module": "@jupyter-widgets/base",
            "_view_module_version": "1.2.0",
            "_view_name": "StyleView",
            "description_width": ""
          }
        },
        "9dee42a282c34121bdd54c7b207126b4": {
          "model_module": "@jupyter-widgets/controls",
          "model_name": "HTMLModel",
          "model_module_version": "1.5.0",
          "state": {
            "_dom_classes": [],
            "_model_module": "@jupyter-widgets/controls",
            "_model_module_version": "1.5.0",
            "_model_name": "HTMLModel",
            "_view_count": null,
            "_view_module": "@jupyter-widgets/controls",
            "_view_module_version": "1.5.0",
            "_view_name": "HTMLView",
            "description": "",
            "description_tooltip": null,
            "layout": "IPY_MODEL_fa2d42e809d64d90bb3249ec43c26639",
            "placeholder": "​",
            "style": "IPY_MODEL_009f8dc8fd4041a5866a1442433ce075",
            "value": "<h3>Dados Básicos</h3>"
          }
        },
        "931bc62131fa4d0283b27c42d2d68ca7": {
          "model_module": "@jupyter-widgets/controls",
          "model_name": "TextModel",
          "model_module_version": "1.5.0",
          "state": {
            "_dom_classes": [],
            "_model_module": "@jupyter-widgets/controls",
            "_model_module_version": "1.5.0",
            "_model_name": "TextModel",
            "_view_count": null,
            "_view_module": "@jupyter-widgets/controls",
            "_view_module_version": "1.5.0",
            "_view_name": "TextView",
            "continuous_update": true,
            "description": "Nome Completo:",
            "description_tooltip": null,
            "disabled": false,
            "layout": "IPY_MODEL_56be28ddf2f4403192cee8010a7fbe05",
            "placeholder": "Digite o nome completo",
            "style": "IPY_MODEL_56752da3a5bb4523990f33b5e4ee07ef",
            "value": "Lucas Silva"
          }
        },
        "b4ce30b7cc3d402da2efbc43189ea211": {
          "model_module": "@jupyter-widgets/controls",
          "model_name": "TextareaModel",
          "model_module_version": "1.5.0",
          "state": {
            "_dom_classes": [],
            "_model_module": "@jupyter-widgets/controls",
            "_model_module_version": "1.5.0",
            "_model_name": "TextareaModel",
            "_view_count": null,
            "_view_module": "@jupyter-widgets/controls",
            "_view_module_version": "1.5.0",
            "_view_name": "TextareaView",
            "continuous_update": true,
            "description": "Endereço:",
            "description_tooltip": null,
            "disabled": false,
            "layout": "IPY_MODEL_e8f9914707374e79b0d4c75e28678269",
            "placeholder": "Digite o endereço (opcional)",
            "rows": null,
            "style": "IPY_MODEL_51ff18a52b3240feb5272c409785e27f",
            "value": ""
          }
        },
        "88b47a99a17a49bfa834ccf2526679c8": {
          "model_module": "@jupyter-widgets/base",
          "model_name": "LayoutModel",
          "model_module_version": "1.2.0",
          "state": {
            "_model_module": "@jupyter-widgets/base",
            "_model_module_version": "1.2.0",
            "_model_name": "LayoutModel",
            "_view_count": null,
            "_view_module": "@jupyter-widgets/base",
            "_view_module_version": "1.2.0",
            "_view_name": "LayoutView",
            "align_content": null,
            "align_items": null,
            "align_self": null,
            "border": null,
            "bottom": null,
            "display": null,
            "flex": null,
            "flex_flow": null,
            "grid_area": null,
            "grid_auto_columns": null,
            "grid_auto_flow": null,
            "grid_auto_rows": null,
            "grid_column": null,
            "grid_gap": null,
            "grid_row": null,
            "grid_template_areas": null,
            "grid_template_columns": null,
            "grid_template_rows": null,
            "height": null,
            "justify_content": null,
            "justify_items": null,
            "left": null,
            "margin": "0 0 10px 0",
            "max_height": null,
            "max_width": null,
            "min_height": null,
            "min_width": null,
            "object_fit": null,
            "object_position": null,
            "order": null,
            "overflow": null,
            "overflow_x": null,
            "overflow_y": null,
            "padding": null,
            "right": null,
            "top": null,
            "visibility": null,
            "width": null
          }
        },
        "f968a93898b94c35a2c1188c70e04fd9": {
          "model_module": "@jupyter-widgets/controls",
          "model_name": "HTMLModel",
          "model_module_version": "1.5.0",
          "state": {
            "_dom_classes": [],
            "_model_module": "@jupyter-widgets/controls",
            "_model_module_version": "1.5.0",
            "_model_name": "HTMLModel",
            "_view_count": null,
            "_view_module": "@jupyter-widgets/controls",
            "_view_module_version": "1.5.0",
            "_view_name": "HTMLView",
            "description": "",
            "description_tooltip": null,
            "layout": "IPY_MODEL_84f4283c8e584fdd92fd8e7de75b01de",
            "placeholder": "​",
            "style": "IPY_MODEL_3668e575a099416688ef8bd000d1bd3c",
            "value": "<h3>CPF (Dado Sensível)</h3>"
          }
        },
        "f3391d7e113743f98d278ab03ea23f2f": {
          "model_module": "@jupyter-widgets/controls",
          "model_name": "TextModel",
          "model_module_version": "1.5.0",
          "state": {
            "_dom_classes": [],
            "_model_module": "@jupyter-widgets/controls",
            "_model_module_version": "1.5.0",
            "_model_name": "TextModel",
            "_view_count": null,
            "_view_module": "@jupyter-widgets/controls",
            "_view_module_version": "1.5.0",
            "_view_name": "TextView",
            "continuous_update": true,
            "description": "CPF:",
            "description_tooltip": null,
            "disabled": false,
            "layout": "IPY_MODEL_227dc7a88b18493680ed4069daa9f806",
            "placeholder": "Digite 11 números",
            "style": "IPY_MODEL_ad88ca6cbb4e4afa8b0ec9b141221b72",
            "value": "88347396809"
          }
        },
        "51ab4a261e1845be920ea95aac22e9fa": {
          "model_module": "@jupyter-widgets/controls",
          "model_name": "HTMLModel",
          "model_module_version": "1.5.0",
          "state": {
            "_dom_classes": [],
            "_model_module": "@jupyter-widgets/controls",
            "_model_module_version": "1.5.0",
            "_model_name": "HTMLModel",
            "_view_count": null,
            "_view_module": "@jupyter-widgets/controls",
            "_view_module_version": "1.5.0",
            "_view_name": "HTMLView",
            "description": "",
            "description_tooltip": null,
            "layout": "IPY_MODEL_6ac125ec854348db941b6da769de351e",
            "placeholder": "​",
            "style": "IPY_MODEL_1fb70fb381154d229daf4b4bec81cd2a",
            "value": "<p><small><font color='red'><b>Atenção (LGPD):</b> Use apenas CPFs de teste (11 dígitos válidos).</font></small></p>"
          }
        },
        "d941594a03c2448998bf21c60b1a8f6e": {
          "model_module": "@jupyter-widgets/base",
          "model_name": "LayoutModel",
          "model_module_version": "1.2.0",
          "state": {
            "_model_module": "@jupyter-widgets/base",
            "_model_module_version": "1.2.0",
            "_model_name": "LayoutModel",
            "_view_count": null,
            "_view_module": "@jupyter-widgets/base",
            "_view_module_version": "1.2.0",
            "_view_name": "LayoutView",
            "align_content": null,
            "align_items": null,
            "align_self": null,
            "border": null,
            "bottom": null,
            "display": null,
            "flex": null,
            "flex_flow": null,
            "grid_area": null,
            "grid_auto_columns": null,
            "grid_auto_flow": null,
            "grid_auto_rows": null,
            "grid_column": null,
            "grid_gap": null,
            "grid_row": null,
            "grid_template_areas": null,
            "grid_template_columns": null,
            "grid_template_rows": null,
            "height": null,
            "justify_content": null,
            "justify_items": null,
            "left": null,
            "margin": "0 0 10px 0",
            "max_height": null,
            "max_width": null,
            "min_height": null,
            "min_width": null,
            "object_fit": null,
            "object_position": null,
            "order": null,
            "overflow": null,
            "overflow_x": null,
            "overflow_y": null,
            "padding": null,
            "right": null,
            "top": null,
            "visibility": null,
            "width": null
          }
        },
        "dd251735f8c843a2b3bcd7443c58ecde": {
          "model_module": "@jupyter-widgets/controls",
          "model_name": "HTMLModel",
          "model_module_version": "1.5.0",
          "state": {
            "_dom_classes": [],
            "_model_module": "@jupyter-widgets/controls",
            "_model_module_version": "1.5.0",
            "_model_name": "HTMLModel",
            "_view_count": null,
            "_view_module": "@jupyter-widgets/controls",
            "_view_module_version": "1.5.0",
            "_view_name": "HTMLView",
            "description": "",
            "description_tooltip": null,
            "layout": "IPY_MODEL_560829cad0bf42f2a22984eab70be3d4",
            "placeholder": "​",
            "style": "IPY_MODEL_a0327efa17524ba481defde96b65e197",
            "value": "<h3>Interesses e Atividades em E-sports</h3>"
          }
        },
        "6655e5beca1a404faff248348654a65f": {
          "model_module": "@jupyter-widgets/controls",
          "model_name": "TextModel",
          "model_module_version": "1.5.0",
          "state": {
            "_dom_classes": [],
            "_model_module": "@jupyter-widgets/controls",
            "_model_module_version": "1.5.0",
            "_model_name": "TextModel",
            "_view_count": null,
            "_view_module": "@jupyter-widgets/controls",
            "_view_module_version": "1.5.0",
            "_view_name": "TextView",
            "continuous_update": true,
            "description": "Jogos (sep. vírgula):",
            "description_tooltip": null,
            "disabled": false,
            "layout": "IPY_MODEL_bd97b18385854728995a61d5718cd5e4",
            "placeholder": "Ex: CS, Valorant, LoL",
            "style": "IPY_MODEL_269334eb07e940f2909fd39815c31473",
            "value": "Valorant, CS, LoL"
          }
        },
        "96d26ec238fd40d59906025bfecc14e8": {
          "model_module": "@jupyter-widgets/controls",
          "model_name": "TextModel",
          "model_module_version": "1.5.0",
          "state": {
            "_dom_classes": [],
            "_model_module": "@jupyter-widgets/controls",
            "_model_module_version": "1.5.0",
            "_model_name": "TextModel",
            "_view_count": null,
            "_view_module": "@jupyter-widgets/controls",
            "_view_module_version": "1.5.0",
            "_view_name": "TextView",
            "continuous_update": true,
            "description": "Atividades (sep. vírgula):",
            "description_tooltip": null,
            "disabled": false,
            "layout": "IPY_MODEL_4ce595fd2356482bb1342013a2b31e96",
            "placeholder": "Ex: Competitivo, Streams",
            "style": "IPY_MODEL_6b02ff02ff1d4f91bff47f5775b6ee96",
            "value": "Faço Streams"
          }
        },
        "6c81009dce4041eca49d7714bbc17ba6": {
          "model_module": "@jupyter-widgets/controls",
          "model_name": "TextareaModel",
          "model_module_version": "1.5.0",
          "state": {
            "_dom_classes": [],
            "_model_module": "@jupyter-widgets/controls",
            "_model_module_version": "1.5.0",
            "_model_name": "TextareaModel",
            "_view_count": null,
            "_view_module": "@jupyter-widgets/controls",
            "_view_module_version": "1.5.0",
            "_view_name": "TextareaView",
            "continuous_update": true,
            "description": "Eventos Comparecidos:",
            "description_tooltip": null,
            "disabled": false,
            "layout": "IPY_MODEL_9119849f43fe40509b0500cffd10c281",
            "placeholder": "Eventos online/presenciais comparecidos",
            "rows": null,
            "style": "IPY_MODEL_5de0ec46b3dd440c910626438b997d6c",
            "value": "CBLOL"
          }
        },
        "303e78c2aace4d25b530cc15245461cb": {
          "model_module": "@jupyter-widgets/controls",
          "model_name": "TextareaModel",
          "model_module_version": "1.5.0",
          "state": {
            "_dom_classes": [],
            "_model_module": "@jupyter-widgets/controls",
            "_model_module_version": "1.5.0",
            "_model_name": "TextareaModel",
            "_view_count": null,
            "_view_module": "@jupyter-widgets/controls",
            "_view_module_version": "1.5.0",
            "_view_name": "TextareaView",
            "continuous_update": true,
            "description": "Compras E-sports:",
            "description_tooltip": null,
            "disabled": false,
            "layout": "IPY_MODEL_b312aecb520648fe9987061c0f50ca64",
            "placeholder": "Produtos, Skins, Periféricos",
            "rows": null,
            "style": "IPY_MODEL_7cfaea1a820b4083a7a685df5f39ebde",
            "value": "Teclado e Mouse"
          }
        },
        "7d1b3f981d0744d392d2a6cdf226e5d2": {
          "model_module": "@jupyter-widgets/base",
          "model_name": "LayoutModel",
          "model_module_version": "1.2.0",
          "state": {
            "_model_module": "@jupyter-widgets/base",
            "_model_module_version": "1.2.0",
            "_model_name": "LayoutModel",
            "_view_count": null,
            "_view_module": "@jupyter-widgets/base",
            "_view_module_version": "1.2.0",
            "_view_name": "LayoutView",
            "align_content": null,
            "align_items": null,
            "align_self": null,
            "border": null,
            "bottom": null,
            "display": null,
            "flex": null,
            "flex_flow": null,
            "grid_area": null,
            "grid_auto_columns": null,
            "grid_auto_flow": null,
            "grid_auto_rows": null,
            "grid_column": null,
            "grid_gap": null,
            "grid_row": null,
            "grid_template_areas": null,
            "grid_template_columns": null,
            "grid_template_rows": null,
            "height": null,
            "justify_content": null,
            "justify_items": null,
            "left": null,
            "margin": "0 0 10px 0",
            "max_height": null,
            "max_width": null,
            "min_height": null,
            "min_width": null,
            "object_fit": null,
            "object_position": null,
            "order": null,
            "overflow": null,
            "overflow_x": null,
            "overflow_y": null,
            "padding": null,
            "right": null,
            "top": null,
            "visibility": null,
            "width": null
          }
        },
        "b699782a224c477c8d180b1b6dfb249c": {
          "model_module": "@jupyter-widgets/controls",
          "model_name": "HTMLModel",
          "model_module_version": "1.5.0",
          "state": {
            "_dom_classes": [],
            "_model_module": "@jupyter-widgets/controls",
            "_model_module_version": "1.5.0",
            "_model_name": "HTMLModel",
            "_view_count": null,
            "_view_module": "@jupyter-widgets/controls",
            "_view_module_version": "1.5.0",
            "_view_name": "HTMLView",
            "description": "",
            "description_tooltip": null,
            "layout": "IPY_MODEL_17866290127241aab87d35e1f7f6586a",
            "placeholder": "​",
            "style": "IPY_MODEL_23fd37950ec14643965195c227abd226",
            "value": "<h3>Links de Perfis Online</h3>"
          }
        },
        "853918addfe2482290ab0f28aee45678": {
          "model_module": "@jupyter-widgets/controls",
          "model_name": "TextModel",
          "model_module_version": "1.5.0",
          "state": {
            "_dom_classes": [],
            "_model_module": "@jupyter-widgets/controls",
            "_model_module_version": "1.5.0",
            "_model_name": "TextModel",
            "_view_count": null,
            "_view_module": "@jupyter-widgets/controls",
            "_view_module_version": "1.5.0",
            "_view_name": "TextView",
            "continuous_update": true,
            "description": "Twitter URL:",
            "description_tooltip": null,
            "disabled": false,
            "layout": "IPY_MODEL_34f086885d0d4f8c90115ff9a7c7a8df",
            "placeholder": "https://twitter.com/usuario",
            "style": "IPY_MODEL_03d7237ecc744dec93c7090150d845ab",
            "value": "https://x.com/smurfdomuca"
          }
        },
        "42313c18b76f409281fba2c5b9f2ace5": {
          "model_module": "@jupyter-widgets/controls",
          "model_name": "TextModel",
          "model_module_version": "1.5.0",
          "state": {
            "_dom_classes": [],
            "_model_module": "@jupyter-widgets/controls",
            "_model_module_version": "1.5.0",
            "_model_name": "TextModel",
            "_view_count": null,
            "_view_module": "@jupyter-widgets/controls",
            "_view_module_version": "1.5.0",
            "_view_name": "TextView",
            "continuous_update": true,
            "description": "Twitch URL:",
            "description_tooltip": null,
            "disabled": false,
            "layout": "IPY_MODEL_0faf710d39cb468883f0672627d3b2bd",
            "placeholder": "https://twitch.tv/canal",
            "style": "IPY_MODEL_3625ce03878e4d5abfecd34261b3ead7",
            "value": ""
          }
        },
        "8b3b63ac95fe4fbebb246ffac1ac88c1": {
          "model_module": "@jupyter-widgets/controls",
          "model_name": "TextModel",
          "model_module_version": "1.5.0",
          "state": {
            "_dom_classes": [],
            "_model_module": "@jupyter-widgets/controls",
            "_model_module_version": "1.5.0",
            "_model_name": "TextModel",
            "_view_count": null,
            "_view_module": "@jupyter-widgets/controls",
            "_view_module_version": "1.5.0",
            "_view_name": "TextView",
            "continuous_update": true,
            "description": "Outro Perfil URL:",
            "description_tooltip": null,
            "disabled": false,
            "layout": "IPY_MODEL_805c2bdd484a4fcbbfcbea588eb33bc4",
            "placeholder": "Link GamersClub, HLTV, etc.",
            "style": "IPY_MODEL_effb1f5d0da4421492c30e148531221b",
            "value": ""
          }
        },
        "5c4e205183f340fe980090eb42a90cf6": {
          "model_module": "@jupyter-widgets/base",
          "model_name": "LayoutModel",
          "model_module_version": "1.2.0",
          "state": {
            "_model_module": "@jupyter-widgets/base",
            "_model_module_version": "1.2.0",
            "_model_name": "LayoutModel",
            "_view_count": null,
            "_view_module": "@jupyter-widgets/base",
            "_view_module_version": "1.2.0",
            "_view_name": "LayoutView",
            "align_content": null,
            "align_items": null,
            "align_self": null,
            "border": null,
            "bottom": null,
            "display": null,
            "flex": null,
            "flex_flow": null,
            "grid_area": null,
            "grid_auto_columns": null,
            "grid_auto_flow": null,
            "grid_auto_rows": null,
            "grid_column": null,
            "grid_gap": null,
            "grid_row": null,
            "grid_template_areas": null,
            "grid_template_columns": null,
            "grid_template_rows": null,
            "height": null,
            "justify_content": null,
            "justify_items": null,
            "left": null,
            "margin": "0 0 10px 0",
            "max_height": null,
            "max_width": null,
            "min_height": null,
            "min_width": null,
            "object_fit": null,
            "object_position": null,
            "order": null,
            "overflow": null,
            "overflow_x": null,
            "overflow_y": null,
            "padding": null,
            "right": null,
            "top": null,
            "visibility": null,
            "width": null
          }
        },
        "6790bc6cad394167a0dc618e0dc76168": {
          "model_module": "@jupyter-widgets/base",
          "model_name": "LayoutModel",
          "model_module_version": "1.2.0",
          "state": {
            "_model_module": "@jupyter-widgets/base",
            "_model_module_version": "1.2.0",
            "_model_name": "LayoutModel",
            "_view_count": null,
            "_view_module": "@jupyter-widgets/base",
            "_view_module_version": "1.2.0",
            "_view_name": "LayoutView",
            "align_content": null,
            "align_items": null,
            "align_self": null,
            "border": null,
            "bottom": null,
            "display": null,
            "flex": null,
            "flex_flow": null,
            "grid_area": null,
            "grid_auto_columns": null,
            "grid_auto_flow": null,
            "grid_auto_rows": null,
            "grid_column": null,
            "grid_gap": null,
            "grid_row": null,
            "grid_template_areas": null,
            "grid_template_columns": null,
            "grid_template_rows": null,
            "height": null,
            "justify_content": null,
            "justify_items": null,
            "left": null,
            "margin": "10px 0 0 0",
            "max_height": null,
            "max_width": null,
            "min_height": null,
            "min_width": null,
            "object_fit": null,
            "object_position": null,
            "order": null,
            "overflow": null,
            "overflow_x": null,
            "overflow_y": null,
            "padding": null,
            "right": null,
            "top": null,
            "visibility": null,
            "width": null
          }
        },
        "240ead6413fe440fb612aaa161877740": {
          "model_module": "@jupyter-widgets/controls",
          "model_name": "ButtonStyleModel",
          "model_module_version": "1.5.0",
          "state": {
            "_model_module": "@jupyter-widgets/controls",
            "_model_module_version": "1.5.0",
            "_model_name": "ButtonStyleModel",
            "_view_count": null,
            "_view_module": "@jupyter-widgets/base",
            "_view_module_version": "1.2.0",
            "_view_name": "StyleView",
            "button_color": null,
            "font_weight": ""
          }
        },
        "fa2d42e809d64d90bb3249ec43c26639": {
          "model_module": "@jupyter-widgets/base",
          "model_name": "LayoutModel",
          "model_module_version": "1.2.0",
          "state": {
            "_model_module": "@jupyter-widgets/base",
            "_model_module_version": "1.2.0",
            "_model_name": "LayoutModel",
            "_view_count": null,
            "_view_module": "@jupyter-widgets/base",
            "_view_module_version": "1.2.0",
            "_view_name": "LayoutView",
            "align_content": null,
            "align_items": null,
            "align_self": null,
            "border": null,
            "bottom": null,
            "display": null,
            "flex": null,
            "flex_flow": null,
            "grid_area": null,
            "grid_auto_columns": null,
            "grid_auto_flow": null,
            "grid_auto_rows": null,
            "grid_column": null,
            "grid_gap": null,
            "grid_row": null,
            "grid_template_areas": null,
            "grid_template_columns": null,
            "grid_template_rows": null,
            "height": null,
            "justify_content": null,
            "justify_items": null,
            "left": null,
            "margin": null,
            "max_height": null,
            "max_width": null,
            "min_height": null,
            "min_width": null,
            "object_fit": null,
            "object_position": null,
            "order": null,
            "overflow": null,
            "overflow_x": null,
            "overflow_y": null,
            "padding": null,
            "right": null,
            "top": null,
            "visibility": null,
            "width": null
          }
        },
        "009f8dc8fd4041a5866a1442433ce075": {
          "model_module": "@jupyter-widgets/controls",
          "model_name": "DescriptionStyleModel",
          "model_module_version": "1.5.0",
          "state": {
            "_model_module": "@jupyter-widgets/controls",
            "_model_module_version": "1.5.0",
            "_model_name": "DescriptionStyleModel",
            "_view_count": null,
            "_view_module": "@jupyter-widgets/base",
            "_view_module_version": "1.2.0",
            "_view_name": "StyleView",
            "description_width": ""
          }
        },
        "56be28ddf2f4403192cee8010a7fbe05": {
          "model_module": "@jupyter-widgets/base",
          "model_name": "LayoutModel",
          "model_module_version": "1.2.0",
          "state": {
            "_model_module": "@jupyter-widgets/base",
            "_model_module_version": "1.2.0",
            "_model_name": "LayoutModel",
            "_view_count": null,
            "_view_module": "@jupyter-widgets/base",
            "_view_module_version": "1.2.0",
            "_view_name": "LayoutView",
            "align_content": null,
            "align_items": null,
            "align_self": null,
            "border": null,
            "bottom": null,
            "display": null,
            "flex": null,
            "flex_flow": null,
            "grid_area": null,
            "grid_auto_columns": null,
            "grid_auto_flow": null,
            "grid_auto_rows": null,
            "grid_column": null,
            "grid_gap": null,
            "grid_row": null,
            "grid_template_areas": null,
            "grid_template_columns": null,
            "grid_template_rows": null,
            "height": null,
            "justify_content": null,
            "justify_items": null,
            "left": null,
            "margin": null,
            "max_height": null,
            "max_width": null,
            "min_height": null,
            "min_width": null,
            "object_fit": null,
            "object_position": null,
            "order": null,
            "overflow": null,
            "overflow_x": null,
            "overflow_y": null,
            "padding": null,
            "right": null,
            "top": null,
            "visibility": null,
            "width": "80%"
          }
        },
        "56752da3a5bb4523990f33b5e4ee07ef": {
          "model_module": "@jupyter-widgets/controls",
          "model_name": "DescriptionStyleModel",
          "model_module_version": "1.5.0",
          "state": {
            "_model_module": "@jupyter-widgets/controls",
            "_model_module_version": "1.5.0",
            "_model_name": "DescriptionStyleModel",
            "_view_count": null,
            "_view_module": "@jupyter-widgets/base",
            "_view_module_version": "1.2.0",
            "_view_name": "StyleView",
            "description_width": "180px"
          }
        },
        "e8f9914707374e79b0d4c75e28678269": {
          "model_module": "@jupyter-widgets/base",
          "model_name": "LayoutModel",
          "model_module_version": "1.2.0",
          "state": {
            "_model_module": "@jupyter-widgets/base",
            "_model_module_version": "1.2.0",
            "_model_name": "LayoutModel",
            "_view_count": null,
            "_view_module": "@jupyter-widgets/base",
            "_view_module_version": "1.2.0",
            "_view_name": "LayoutView",
            "align_content": null,
            "align_items": null,
            "align_self": null,
            "border": null,
            "bottom": null,
            "display": null,
            "flex": null,
            "flex_flow": null,
            "grid_area": null,
            "grid_auto_columns": null,
            "grid_auto_flow": null,
            "grid_auto_rows": null,
            "grid_column": null,
            "grid_gap": null,
            "grid_row": null,
            "grid_template_areas": null,
            "grid_template_columns": null,
            "grid_template_rows": null,
            "height": "60px",
            "justify_content": null,
            "justify_items": null,
            "left": null,
            "margin": null,
            "max_height": null,
            "max_width": null,
            "min_height": null,
            "min_width": null,
            "object_fit": null,
            "object_position": null,
            "order": null,
            "overflow": null,
            "overflow_x": null,
            "overflow_y": null,
            "padding": null,
            "right": null,
            "top": null,
            "visibility": null,
            "width": "80%"
          }
        },
        "51ff18a52b3240feb5272c409785e27f": {
          "model_module": "@jupyter-widgets/controls",
          "model_name": "DescriptionStyleModel",
          "model_module_version": "1.5.0",
          "state": {
            "_model_module": "@jupyter-widgets/controls",
            "_model_module_version": "1.5.0",
            "_model_name": "DescriptionStyleModel",
            "_view_count": null,
            "_view_module": "@jupyter-widgets/base",
            "_view_module_version": "1.2.0",
            "_view_name": "StyleView",
            "description_width": "180px"
          }
        },
        "84f4283c8e584fdd92fd8e7de75b01de": {
          "model_module": "@jupyter-widgets/base",
          "model_name": "LayoutModel",
          "model_module_version": "1.2.0",
          "state": {
            "_model_module": "@jupyter-widgets/base",
            "_model_module_version": "1.2.0",
            "_model_name": "LayoutModel",
            "_view_count": null,
            "_view_module": "@jupyter-widgets/base",
            "_view_module_version": "1.2.0",
            "_view_name": "LayoutView",
            "align_content": null,
            "align_items": null,
            "align_self": null,
            "border": null,
            "bottom": null,
            "display": null,
            "flex": null,
            "flex_flow": null,
            "grid_area": null,
            "grid_auto_columns": null,
            "grid_auto_flow": null,
            "grid_auto_rows": null,
            "grid_column": null,
            "grid_gap": null,
            "grid_row": null,
            "grid_template_areas": null,
            "grid_template_columns": null,
            "grid_template_rows": null,
            "height": null,
            "justify_content": null,
            "justify_items": null,
            "left": null,
            "margin": null,
            "max_height": null,
            "max_width": null,
            "min_height": null,
            "min_width": null,
            "object_fit": null,
            "object_position": null,
            "order": null,
            "overflow": null,
            "overflow_x": null,
            "overflow_y": null,
            "padding": null,
            "right": null,
            "top": null,
            "visibility": null,
            "width": null
          }
        },
        "3668e575a099416688ef8bd000d1bd3c": {
          "model_module": "@jupyter-widgets/controls",
          "model_name": "DescriptionStyleModel",
          "model_module_version": "1.5.0",
          "state": {
            "_model_module": "@jupyter-widgets/controls",
            "_model_module_version": "1.5.0",
            "_model_name": "DescriptionStyleModel",
            "_view_count": null,
            "_view_module": "@jupyter-widgets/base",
            "_view_module_version": "1.2.0",
            "_view_name": "StyleView",
            "description_width": ""
          }
        },
        "227dc7a88b18493680ed4069daa9f806": {
          "model_module": "@jupyter-widgets/base",
          "model_name": "LayoutModel",
          "model_module_version": "1.2.0",
          "state": {
            "_model_module": "@jupyter-widgets/base",
            "_model_module_version": "1.2.0",
            "_model_name": "LayoutModel",
            "_view_count": null,
            "_view_module": "@jupyter-widgets/base",
            "_view_module_version": "1.2.0",
            "_view_name": "LayoutView",
            "align_content": null,
            "align_items": null,
            "align_self": null,
            "border": null,
            "bottom": null,
            "display": null,
            "flex": null,
            "flex_flow": null,
            "grid_area": null,
            "grid_auto_columns": null,
            "grid_auto_flow": null,
            "grid_auto_rows": null,
            "grid_column": null,
            "grid_gap": null,
            "grid_row": null,
            "grid_template_areas": null,
            "grid_template_columns": null,
            "grid_template_rows": null,
            "height": null,
            "justify_content": null,
            "justify_items": null,
            "left": null,
            "margin": "0 0 5px 0",
            "max_height": null,
            "max_width": null,
            "min_height": null,
            "min_width": null,
            "object_fit": null,
            "object_position": null,
            "order": null,
            "overflow": null,
            "overflow_x": null,
            "overflow_y": null,
            "padding": null,
            "right": null,
            "top": null,
            "visibility": null,
            "width": "315px"
          }
        },
        "ad88ca6cbb4e4afa8b0ec9b141221b72": {
          "model_module": "@jupyter-widgets/controls",
          "model_name": "DescriptionStyleModel",
          "model_module_version": "1.5.0",
          "state": {
            "_model_module": "@jupyter-widgets/controls",
            "_model_module_version": "1.5.0",
            "_model_name": "DescriptionStyleModel",
            "_view_count": null,
            "_view_module": "@jupyter-widgets/base",
            "_view_module_version": "1.2.0",
            "_view_name": "StyleView",
            "description_width": "180px"
          }
        },
        "6ac125ec854348db941b6da769de351e": {
          "model_module": "@jupyter-widgets/base",
          "model_name": "LayoutModel",
          "model_module_version": "1.2.0",
          "state": {
            "_model_module": "@jupyter-widgets/base",
            "_model_module_version": "1.2.0",
            "_model_name": "LayoutModel",
            "_view_count": null,
            "_view_module": "@jupyter-widgets/base",
            "_view_module_version": "1.2.0",
            "_view_name": "LayoutView",
            "align_content": null,
            "align_items": null,
            "align_self": null,
            "border": null,
            "bottom": null,
            "display": null,
            "flex": null,
            "flex_flow": null,
            "grid_area": null,
            "grid_auto_columns": null,
            "grid_auto_flow": null,
            "grid_auto_rows": null,
            "grid_column": null,
            "grid_gap": null,
            "grid_row": null,
            "grid_template_areas": null,
            "grid_template_columns": null,
            "grid_template_rows": null,
            "height": null,
            "justify_content": null,
            "justify_items": null,
            "left": null,
            "margin": null,
            "max_height": null,
            "max_width": null,
            "min_height": null,
            "min_width": null,
            "object_fit": null,
            "object_position": null,
            "order": null,
            "overflow": null,
            "overflow_x": null,
            "overflow_y": null,
            "padding": null,
            "right": null,
            "top": null,
            "visibility": null,
            "width": null
          }
        },
        "1fb70fb381154d229daf4b4bec81cd2a": {
          "model_module": "@jupyter-widgets/controls",
          "model_name": "DescriptionStyleModel",
          "model_module_version": "1.5.0",
          "state": {
            "_model_module": "@jupyter-widgets/controls",
            "_model_module_version": "1.5.0",
            "_model_name": "DescriptionStyleModel",
            "_view_count": null,
            "_view_module": "@jupyter-widgets/base",
            "_view_module_version": "1.2.0",
            "_view_name": "StyleView",
            "description_width": ""
          }
        },
        "560829cad0bf42f2a22984eab70be3d4": {
          "model_module": "@jupyter-widgets/base",
          "model_name": "LayoutModel",
          "model_module_version": "1.2.0",
          "state": {
            "_model_module": "@jupyter-widgets/base",
            "_model_module_version": "1.2.0",
            "_model_name": "LayoutModel",
            "_view_count": null,
            "_view_module": "@jupyter-widgets/base",
            "_view_module_version": "1.2.0",
            "_view_name": "LayoutView",
            "align_content": null,
            "align_items": null,
            "align_self": null,
            "border": null,
            "bottom": null,
            "display": null,
            "flex": null,
            "flex_flow": null,
            "grid_area": null,
            "grid_auto_columns": null,
            "grid_auto_flow": null,
            "grid_auto_rows": null,
            "grid_column": null,
            "grid_gap": null,
            "grid_row": null,
            "grid_template_areas": null,
            "grid_template_columns": null,
            "grid_template_rows": null,
            "height": null,
            "justify_content": null,
            "justify_items": null,
            "left": null,
            "margin": null,
            "max_height": null,
            "max_width": null,
            "min_height": null,
            "min_width": null,
            "object_fit": null,
            "object_position": null,
            "order": null,
            "overflow": null,
            "overflow_x": null,
            "overflow_y": null,
            "padding": null,
            "right": null,
            "top": null,
            "visibility": null,
            "width": null
          }
        },
        "a0327efa17524ba481defde96b65e197": {
          "model_module": "@jupyter-widgets/controls",
          "model_name": "DescriptionStyleModel",
          "model_module_version": "1.5.0",
          "state": {
            "_model_module": "@jupyter-widgets/controls",
            "_model_module_version": "1.5.0",
            "_model_name": "DescriptionStyleModel",
            "_view_count": null,
            "_view_module": "@jupyter-widgets/base",
            "_view_module_version": "1.2.0",
            "_view_name": "StyleView",
            "description_width": ""
          }
        },
        "bd97b18385854728995a61d5718cd5e4": {
          "model_module": "@jupyter-widgets/base",
          "model_name": "LayoutModel",
          "model_module_version": "1.2.0",
          "state": {
            "_model_module": "@jupyter-widgets/base",
            "_model_module_version": "1.2.0",
            "_model_name": "LayoutModel",
            "_view_count": null,
            "_view_module": "@jupyter-widgets/base",
            "_view_module_version": "1.2.0",
            "_view_name": "LayoutView",
            "align_content": null,
            "align_items": null,
            "align_self": null,
            "border": null,
            "bottom": null,
            "display": null,
            "flex": null,
            "flex_flow": null,
            "grid_area": null,
            "grid_auto_columns": null,
            "grid_auto_flow": null,
            "grid_auto_rows": null,
            "grid_column": null,
            "grid_gap": null,
            "grid_row": null,
            "grid_template_areas": null,
            "grid_template_columns": null,
            "grid_template_rows": null,
            "height": null,
            "justify_content": null,
            "justify_items": null,
            "left": null,
            "margin": null,
            "max_height": null,
            "max_width": null,
            "min_height": null,
            "min_width": null,
            "object_fit": null,
            "object_position": null,
            "order": null,
            "overflow": null,
            "overflow_x": null,
            "overflow_y": null,
            "padding": null,
            "right": null,
            "top": null,
            "visibility": null,
            "width": "80%"
          }
        },
        "269334eb07e940f2909fd39815c31473": {
          "model_module": "@jupyter-widgets/controls",
          "model_name": "DescriptionStyleModel",
          "model_module_version": "1.5.0",
          "state": {
            "_model_module": "@jupyter-widgets/controls",
            "_model_module_version": "1.5.0",
            "_model_name": "DescriptionStyleModel",
            "_view_count": null,
            "_view_module": "@jupyter-widgets/base",
            "_view_module_version": "1.2.0",
            "_view_name": "StyleView",
            "description_width": "180px"
          }
        },
        "4ce595fd2356482bb1342013a2b31e96": {
          "model_module": "@jupyter-widgets/base",
          "model_name": "LayoutModel",
          "model_module_version": "1.2.0",
          "state": {
            "_model_module": "@jupyter-widgets/base",
            "_model_module_version": "1.2.0",
            "_model_name": "LayoutModel",
            "_view_count": null,
            "_view_module": "@jupyter-widgets/base",
            "_view_module_version": "1.2.0",
            "_view_name": "LayoutView",
            "align_content": null,
            "align_items": null,
            "align_self": null,
            "border": null,
            "bottom": null,
            "display": null,
            "flex": null,
            "flex_flow": null,
            "grid_area": null,
            "grid_auto_columns": null,
            "grid_auto_flow": null,
            "grid_auto_rows": null,
            "grid_column": null,
            "grid_gap": null,
            "grid_row": null,
            "grid_template_areas": null,
            "grid_template_columns": null,
            "grid_template_rows": null,
            "height": null,
            "justify_content": null,
            "justify_items": null,
            "left": null,
            "margin": null,
            "max_height": null,
            "max_width": null,
            "min_height": null,
            "min_width": null,
            "object_fit": null,
            "object_position": null,
            "order": null,
            "overflow": null,
            "overflow_x": null,
            "overflow_y": null,
            "padding": null,
            "right": null,
            "top": null,
            "visibility": null,
            "width": "80%"
          }
        },
        "6b02ff02ff1d4f91bff47f5775b6ee96": {
          "model_module": "@jupyter-widgets/controls",
          "model_name": "DescriptionStyleModel",
          "model_module_version": "1.5.0",
          "state": {
            "_model_module": "@jupyter-widgets/controls",
            "_model_module_version": "1.5.0",
            "_model_name": "DescriptionStyleModel",
            "_view_count": null,
            "_view_module": "@jupyter-widgets/base",
            "_view_module_version": "1.2.0",
            "_view_name": "StyleView",
            "description_width": "180px"
          }
        },
        "9119849f43fe40509b0500cffd10c281": {
          "model_module": "@jupyter-widgets/base",
          "model_name": "LayoutModel",
          "model_module_version": "1.2.0",
          "state": {
            "_model_module": "@jupyter-widgets/base",
            "_model_module_version": "1.2.0",
            "_model_name": "LayoutModel",
            "_view_count": null,
            "_view_module": "@jupyter-widgets/base",
            "_view_module_version": "1.2.0",
            "_view_name": "LayoutView",
            "align_content": null,
            "align_items": null,
            "align_self": null,
            "border": null,
            "bottom": null,
            "display": null,
            "flex": null,
            "flex_flow": null,
            "grid_area": null,
            "grid_auto_columns": null,
            "grid_auto_flow": null,
            "grid_auto_rows": null,
            "grid_column": null,
            "grid_gap": null,
            "grid_row": null,
            "grid_template_areas": null,
            "grid_template_columns": null,
            "grid_template_rows": null,
            "height": "60px",
            "justify_content": null,
            "justify_items": null,
            "left": null,
            "margin": null,
            "max_height": null,
            "max_width": null,
            "min_height": null,
            "min_width": null,
            "object_fit": null,
            "object_position": null,
            "order": null,
            "overflow": null,
            "overflow_x": null,
            "overflow_y": null,
            "padding": null,
            "right": null,
            "top": null,
            "visibility": null,
            "width": "80%"
          }
        },
        "5de0ec46b3dd440c910626438b997d6c": {
          "model_module": "@jupyter-widgets/controls",
          "model_name": "DescriptionStyleModel",
          "model_module_version": "1.5.0",
          "state": {
            "_model_module": "@jupyter-widgets/controls",
            "_model_module_version": "1.5.0",
            "_model_name": "DescriptionStyleModel",
            "_view_count": null,
            "_view_module": "@jupyter-widgets/base",
            "_view_module_version": "1.2.0",
            "_view_name": "StyleView",
            "description_width": "180px"
          }
        },
        "b312aecb520648fe9987061c0f50ca64": {
          "model_module": "@jupyter-widgets/base",
          "model_name": "LayoutModel",
          "model_module_version": "1.2.0",
          "state": {
            "_model_module": "@jupyter-widgets/base",
            "_model_module_version": "1.2.0",
            "_model_name": "LayoutModel",
            "_view_count": null,
            "_view_module": "@jupyter-widgets/base",
            "_view_module_version": "1.2.0",
            "_view_name": "LayoutView",
            "align_content": null,
            "align_items": null,
            "align_self": null,
            "border": null,
            "bottom": null,
            "display": null,
            "flex": null,
            "flex_flow": null,
            "grid_area": null,
            "grid_auto_columns": null,
            "grid_auto_flow": null,
            "grid_auto_rows": null,
            "grid_column": null,
            "grid_gap": null,
            "grid_row": null,
            "grid_template_areas": null,
            "grid_template_columns": null,
            "grid_template_rows": null,
            "height": "60px",
            "justify_content": null,
            "justify_items": null,
            "left": null,
            "margin": null,
            "max_height": null,
            "max_width": null,
            "min_height": null,
            "min_width": null,
            "object_fit": null,
            "object_position": null,
            "order": null,
            "overflow": null,
            "overflow_x": null,
            "overflow_y": null,
            "padding": null,
            "right": null,
            "top": null,
            "visibility": null,
            "width": "80%"
          }
        },
        "7cfaea1a820b4083a7a685df5f39ebde": {
          "model_module": "@jupyter-widgets/controls",
          "model_name": "DescriptionStyleModel",
          "model_module_version": "1.5.0",
          "state": {
            "_model_module": "@jupyter-widgets/controls",
            "_model_module_version": "1.5.0",
            "_model_name": "DescriptionStyleModel",
            "_view_count": null,
            "_view_module": "@jupyter-widgets/base",
            "_view_module_version": "1.2.0",
            "_view_name": "StyleView",
            "description_width": "180px"
          }
        },
        "17866290127241aab87d35e1f7f6586a": {
          "model_module": "@jupyter-widgets/base",
          "model_name": "LayoutModel",
          "model_module_version": "1.2.0",
          "state": {
            "_model_module": "@jupyter-widgets/base",
            "_model_module_version": "1.2.0",
            "_model_name": "LayoutModel",
            "_view_count": null,
            "_view_module": "@jupyter-widgets/base",
            "_view_module_version": "1.2.0",
            "_view_name": "LayoutView",
            "align_content": null,
            "align_items": null,
            "align_self": null,
            "border": null,
            "bottom": null,
            "display": null,
            "flex": null,
            "flex_flow": null,
            "grid_area": null,
            "grid_auto_columns": null,
            "grid_auto_flow": null,
            "grid_auto_rows": null,
            "grid_column": null,
            "grid_gap": null,
            "grid_row": null,
            "grid_template_areas": null,
            "grid_template_columns": null,
            "grid_template_rows": null,
            "height": null,
            "justify_content": null,
            "justify_items": null,
            "left": null,
            "margin": null,
            "max_height": null,
            "max_width": null,
            "min_height": null,
            "min_width": null,
            "object_fit": null,
            "object_position": null,
            "order": null,
            "overflow": null,
            "overflow_x": null,
            "overflow_y": null,
            "padding": null,
            "right": null,
            "top": null,
            "visibility": null,
            "width": null
          }
        },
        "23fd37950ec14643965195c227abd226": {
          "model_module": "@jupyter-widgets/controls",
          "model_name": "DescriptionStyleModel",
          "model_module_version": "1.5.0",
          "state": {
            "_model_module": "@jupyter-widgets/controls",
            "_model_module_version": "1.5.0",
            "_model_name": "DescriptionStyleModel",
            "_view_count": null,
            "_view_module": "@jupyter-widgets/base",
            "_view_module_version": "1.2.0",
            "_view_name": "StyleView",
            "description_width": ""
          }
        },
        "34f086885d0d4f8c90115ff9a7c7a8df": {
          "model_module": "@jupyter-widgets/base",
          "model_name": "LayoutModel",
          "model_module_version": "1.2.0",
          "state": {
            "_model_module": "@jupyter-widgets/base",
            "_model_module_version": "1.2.0",
            "_model_name": "LayoutModel",
            "_view_count": null,
            "_view_module": "@jupyter-widgets/base",
            "_view_module_version": "1.2.0",
            "_view_name": "LayoutView",
            "align_content": null,
            "align_items": null,
            "align_self": null,
            "border": null,
            "bottom": null,
            "display": null,
            "flex": null,
            "flex_flow": null,
            "grid_area": null,
            "grid_auto_columns": null,
            "grid_auto_flow": null,
            "grid_auto_rows": null,
            "grid_column": null,
            "grid_gap": null,
            "grid_row": null,
            "grid_template_areas": null,
            "grid_template_columns": null,
            "grid_template_rows": null,
            "height": null,
            "justify_content": null,
            "justify_items": null,
            "left": null,
            "margin": null,
            "max_height": null,
            "max_width": null,
            "min_height": null,
            "min_width": null,
            "object_fit": null,
            "object_position": null,
            "order": null,
            "overflow": null,
            "overflow_x": null,
            "overflow_y": null,
            "padding": null,
            "right": null,
            "top": null,
            "visibility": null,
            "width": "80%"
          }
        },
        "03d7237ecc744dec93c7090150d845ab": {
          "model_module": "@jupyter-widgets/controls",
          "model_name": "DescriptionStyleModel",
          "model_module_version": "1.5.0",
          "state": {
            "_model_module": "@jupyter-widgets/controls",
            "_model_module_version": "1.5.0",
            "_model_name": "DescriptionStyleModel",
            "_view_count": null,
            "_view_module": "@jupyter-widgets/base",
            "_view_module_version": "1.2.0",
            "_view_name": "StyleView",
            "description_width": "180px"
          }
        },
        "0faf710d39cb468883f0672627d3b2bd": {
          "model_module": "@jupyter-widgets/base",
          "model_name": "LayoutModel",
          "model_module_version": "1.2.0",
          "state": {
            "_model_module": "@jupyter-widgets/base",
            "_model_module_version": "1.2.0",
            "_model_name": "LayoutModel",
            "_view_count": null,
            "_view_module": "@jupyter-widgets/base",
            "_view_module_version": "1.2.0",
            "_view_name": "LayoutView",
            "align_content": null,
            "align_items": null,
            "align_self": null,
            "border": null,
            "bottom": null,
            "display": null,
            "flex": null,
            "flex_flow": null,
            "grid_area": null,
            "grid_auto_columns": null,
            "grid_auto_flow": null,
            "grid_auto_rows": null,
            "grid_column": null,
            "grid_gap": null,
            "grid_row": null,
            "grid_template_areas": null,
            "grid_template_columns": null,
            "grid_template_rows": null,
            "height": null,
            "justify_content": null,
            "justify_items": null,
            "left": null,
            "margin": null,
            "max_height": null,
            "max_width": null,
            "min_height": null,
            "min_width": null,
            "object_fit": null,
            "object_position": null,
            "order": null,
            "overflow": null,
            "overflow_x": null,
            "overflow_y": null,
            "padding": null,
            "right": null,
            "top": null,
            "visibility": null,
            "width": "80%"
          }
        },
        "3625ce03878e4d5abfecd34261b3ead7": {
          "model_module": "@jupyter-widgets/controls",
          "model_name": "DescriptionStyleModel",
          "model_module_version": "1.5.0",
          "state": {
            "_model_module": "@jupyter-widgets/controls",
            "_model_module_version": "1.5.0",
            "_model_name": "DescriptionStyleModel",
            "_view_count": null,
            "_view_module": "@jupyter-widgets/base",
            "_view_module_version": "1.2.0",
            "_view_name": "StyleView",
            "description_width": "180px"
          }
        },
        "805c2bdd484a4fcbbfcbea588eb33bc4": {
          "model_module": "@jupyter-widgets/base",
          "model_name": "LayoutModel",
          "model_module_version": "1.2.0",
          "state": {
            "_model_module": "@jupyter-widgets/base",
            "_model_module_version": "1.2.0",
            "_model_name": "LayoutModel",
            "_view_count": null,
            "_view_module": "@jupyter-widgets/base",
            "_view_module_version": "1.2.0",
            "_view_name": "LayoutView",
            "align_content": null,
            "align_items": null,
            "align_self": null,
            "border": null,
            "bottom": null,
            "display": null,
            "flex": null,
            "flex_flow": null,
            "grid_area": null,
            "grid_auto_columns": null,
            "grid_auto_flow": null,
            "grid_auto_rows": null,
            "grid_column": null,
            "grid_gap": null,
            "grid_row": null,
            "grid_template_areas": null,
            "grid_template_columns": null,
            "grid_template_rows": null,
            "height": null,
            "justify_content": null,
            "justify_items": null,
            "left": null,
            "margin": null,
            "max_height": null,
            "max_width": null,
            "min_height": null,
            "min_width": null,
            "object_fit": null,
            "object_position": null,
            "order": null,
            "overflow": null,
            "overflow_x": null,
            "overflow_y": null,
            "padding": null,
            "right": null,
            "top": null,
            "visibility": null,
            "width": "80%"
          }
        },
        "effb1f5d0da4421492c30e148531221b": {
          "model_module": "@jupyter-widgets/controls",
          "model_name": "DescriptionStyleModel",
          "model_module_version": "1.5.0",
          "state": {
            "_model_module": "@jupyter-widgets/controls",
            "_model_module_version": "1.5.0",
            "_model_name": "DescriptionStyleModel",
            "_view_count": null,
            "_view_module": "@jupyter-widgets/base",
            "_view_module_version": "1.2.0",
            "_view_name": "StyleView",
            "description_width": "180px"
          }
        },
        "7f102fc67e5b47d98af46fd736ae4857": {
          "model_module": "@jupyter-widgets/output",
          "model_name": "OutputModel",
          "model_module_version": "1.0.0",
          "state": {
            "_dom_classes": [],
            "_model_module": "@jupyter-widgets/output",
            "_model_module_version": "1.0.0",
            "_model_name": "OutputModel",
            "_view_count": null,
            "_view_module": "@jupyter-widgets/output",
            "_view_module_version": "1.0.0",
            "_view_name": "OutputView",
            "layout": "IPY_MODEL_0ccca75b023e4a38b9ad656d63df89d7",
            "msg_id": "",
            "outputs": [
              {
                "output_type": "stream",
                "name": "stdout",
                "text": [
                  "Processando...\n",
                  "Salvando no banco de dados...\n",
                  "Fã 'Lucas Silva' adicionado com ID: 1\n",
                  "--- SUCESSO! Fã salvo com ID: 1 ---\n"
                ]
              }
            ]
          }
        },
        "0ccca75b023e4a38b9ad656d63df89d7": {
          "model_module": "@jupyter-widgets/base",
          "model_name": "LayoutModel",
          "model_module_version": "1.2.0",
          "state": {
            "_model_module": "@jupyter-widgets/base",
            "_model_module_version": "1.2.0",
            "_model_name": "LayoutModel",
            "_view_count": null,
            "_view_module": "@jupyter-widgets/base",
            "_view_module_version": "1.2.0",
            "_view_name": "LayoutView",
            "align_content": null,
            "align_items": null,
            "align_self": null,
            "border": null,
            "bottom": null,
            "display": null,
            "flex": null,
            "flex_flow": null,
            "grid_area": null,
            "grid_auto_columns": null,
            "grid_auto_flow": null,
            "grid_auto_rows": null,
            "grid_column": null,
            "grid_gap": null,
            "grid_row": null,
            "grid_template_areas": null,
            "grid_template_columns": null,
            "grid_template_rows": null,
            "height": null,
            "justify_content": null,
            "justify_items": null,
            "left": null,
            "margin": null,
            "max_height": null,
            "max_width": null,
            "min_height": null,
            "min_width": null,
            "object_fit": null,
            "object_position": null,
            "order": null,
            "overflow": null,
            "overflow_x": null,
            "overflow_y": null,
            "padding": null,
            "right": null,
            "top": null,
            "visibility": null,
            "width": null
          }
        }
      }
    }
  },
  "nbformat": 4,
  "nbformat_minor": 0
}